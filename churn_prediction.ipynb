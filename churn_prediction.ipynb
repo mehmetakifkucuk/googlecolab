{
  "nbformat": 4,
  "nbformat_minor": 0,
  "metadata": {
    "kernelspec": {
      "display_name": "Python 3",
      "language": "python",
      "name": "python3"
    },
    "language_info": {
      "codemirror_mode": {
        "name": "ipython",
        "version": 3
      },
      "file_extension": ".py",
      "mimetype": "text/x-python",
      "name": "python",
      "nbconvert_exporter": "python",
      "pygments_lexer": "ipython3",
      "version": "3.7.9"
    },
    "papermill": {
      "default_parameters": {},
      "duration": 209.890508,
      "end_time": "2021-03-22T13:24:04.449670",
      "environment_variables": {},
      "exception": null,
      "input_path": "__notebook__.ipynb",
      "output_path": "__notebook__.ipynb",
      "parameters": {},
      "start_time": "2021-03-22T13:20:34.559162",
      "version": "2.2.2"
    },
    "colab": {
      "name": "churn-prediction.ipynb",
      "provenance": [],
      "collapsed_sections": [],
      "toc_visible": true,
      "include_colab_link": true
    }
  },
  "cells": [
    {
      "cell_type": "markdown",
      "metadata": {
        "id": "view-in-github",
        "colab_type": "text"
      },
      "source": [
        "<a href=\"https://colab.research.google.com/github/mehmetakifkucuk/googlecolab/blob/main/churn_prediction.ipynb\" target=\"_parent\"><img src=\"https://colab.research.google.com/assets/colab-badge.svg\" alt=\"Open In Colab\"/></a>"
      ]
    },
    {
      "cell_type": "markdown",
      "metadata": {
        "papermill": {
          "duration": 0.024473,
          "end_time": "2021-03-22T13:20:40.298605",
          "exception": false,
          "start_time": "2021-03-22T13:20:40.274132",
          "status": "completed"
        },
        "tags": [],
        "id": "xOdIWvzEnNcG"
      },
      "source": [
        "# 1. Introduction"
      ]
    },
    {
      "cell_type": "markdown",
      "metadata": {
        "papermill": {
          "duration": 0.023109,
          "end_time": "2021-03-22T13:20:40.345088",
          "exception": false,
          "start_time": "2021-03-22T13:20:40.321979",
          "status": "completed"
        },
        "tags": [],
        "id": "ATQlHZk-nNcN"
      },
      "source": [
        "Summary Information about the variables and their types in the data:\n",
        "* Surname : The customer surname\n",
        "* CreditScore : The customer credit score \n",
        "* Geography : The country of the customer(Germany/France/Spain)\n",
        "* Gender : The gender of the customer (Female/Male)\n",
        "* Age : The age of the customer\n",
        "* Tenure : The customer's number of years in the in the bank\n",
        "* Balance : The customer's account balance\n",
        "* NumOfProducts : The number of bank products that the customer uses\n",
        "* HasCrCard : Does the customer has a credit card? (0=No,1=Yes)\n",
        "* IsActiveMember : Does the customer has an active mebership (0=No,1=Yes)\n",
        "* EstimatedSalary : The estimated salary of the customer\n",
        "* Exited : Churned or not? (0=No,1=Yes)"
      ]
    },
    {
      "cell_type": "markdown",
      "metadata": {
        "papermill": {
          "duration": 0.022784,
          "end_time": "2021-03-22T13:20:40.391970",
          "exception": false,
          "start_time": "2021-03-22T13:20:40.369186",
          "status": "completed"
        },
        "tags": [],
        "id": "DwaJ5jKTnNcO"
      },
      "source": [
        "# 2. Data Analysis"
      ]
    },
    {
      "cell_type": "markdown",
      "metadata": {
        "papermill": {
          "duration": 0.022674,
          "end_time": "2021-03-22T13:20:40.438233",
          "exception": false,
          "start_time": "2021-03-22T13:20:40.415559",
          "status": "completed"
        },
        "tags": [],
        "id": "aeCCTlQPnNcO"
      },
      "source": [
        "**2.1 Importing Libraries and Loading Data**"
      ]
    },
    {
      "cell_type": "code",
      "metadata": {
        "execution": {
          "iopub.execute_input": "2021-03-22T13:20:40.492659Z",
          "iopub.status.busy": "2021-03-22T13:20:40.491964Z",
          "iopub.status.idle": "2021-03-22T13:20:41.314348Z",
          "shell.execute_reply": "2021-03-22T13:20:41.313686Z"
        },
        "papermill": {
          "duration": 0.85335,
          "end_time": "2021-03-22T13:20:41.314547",
          "exception": false,
          "start_time": "2021-03-22T13:20:40.461197",
          "status": "completed"
        },
        "tags": [],
        "id": "ow72qkl8nNcP"
      },
      "source": [
        "# data analysis libraries:\n",
        "import numpy as np\n",
        "import pandas as pd\n",
        "# data visualization libraries:\n",
        "import matplotlib.pyplot as plt\n",
        "import seaborn as sns\n",
        "sns.set(style=\"darkgrid\")\n",
        "\n",
        "# to ignore warnings:\n",
        "import sys\n",
        "if not sys.warnoptions:\n",
        "    import os, warnings\n",
        "    warnings.simplefilter(\"ignore\") \n",
        "    os.environ[\"PYTHONWARNINGS\"] = \"ignore\" \n",
        "\n",
        "pd.set_option('display.float_format', lambda x: '{:.3f}'.format(x)) #Limiting floats output to 3 decimal points"
      ],
      "execution_count": 1,
      "outputs": []
    },
    {
      "cell_type": "code",
      "metadata": {
        "execution": {
          "iopub.execute_input": "2021-03-22T13:20:41.369682Z",
          "iopub.status.busy": "2021-03-22T13:20:41.368778Z",
          "iopub.status.idle": "2021-03-22T13:20:41.916606Z",
          "shell.execute_reply": "2021-03-22T13:20:41.916016Z"
        },
        "papermill": {
          "duration": 0.576949,
          "end_time": "2021-03-22T13:20:41.916756",
          "exception": false,
          "start_time": "2021-03-22T13:20:41.339807",
          "status": "completed"
        },
        "tags": [],
        "id": "iyD55Lr4nNcQ"
      },
      "source": [
        "# Importing modelling libraries\n",
        "from sklearn.preprocessing import LabelEncoder, MinMaxScaler\n",
        "from sklearn.metrics import accuracy_score\n",
        "from sklearn.linear_model import LogisticRegression\n",
        "from sklearn.naive_bayes import GaussianNB\n",
        "from sklearn.neighbors import KNeighborsClassifier\n",
        "from sklearn.svm import SVC, LinearSVC\n",
        "from sklearn.tree import DecisionTreeClassifier\n",
        "from sklearn.ensemble import RandomForestClassifier, GradientBoostingClassifier\n",
        "from sklearn.model_selection import KFold, cross_val_score"
      ],
      "execution_count": 2,
      "outputs": []
    },
    {
      "cell_type": "code",
      "metadata": {
        "execution": {
          "iopub.execute_input": "2021-03-22T13:20:41.970754Z",
          "iopub.status.busy": "2021-03-22T13:20:41.970099Z",
          "iopub.status.idle": "2021-03-22T13:20:42.029158Z",
          "shell.execute_reply": "2021-03-22T13:20:42.028521Z"
        },
        "papermill": {
          "duration": 0.089076,
          "end_time": "2021-03-22T13:20:42.029297",
          "exception": false,
          "start_time": "2021-03-22T13:20:41.940221",
          "status": "completed"
        },
        "tags": [],
        "colab": {
          "base_uri": "https://localhost:8080/"
        },
        "id": "rlPqt7zLnNcQ",
        "outputId": "07a2bead-2e65-4de2-e20c-4b2e25efc41e"
      },
      "source": [
        "# Read train and test data with pd.read_csv():\n",
        "data = pd.read_csv(r'sample_data/Churn_Modelling.csv')\n",
        "data.name = 'Data Set'\n",
        "print('Number of Examples = {}'.format(data.shape[0]))\n",
        "print(data.name, 'X Shape = {}'.format(data.shape))\n",
        "print(data.name, 'y Shape = {}\\n'.format(data['Exited'].shape[0]))\n",
        "print(data.columns)"
      ],
      "execution_count": 3,
      "outputs": [
        {
          "output_type": "stream",
          "text": [
            "Number of Examples = 110000\n",
            "Data Set X Shape = (110000, 14)\n",
            "Data Set y Shape = 110000\n",
            "\n",
            "Index(['RowNumber', 'CustomerId', 'Surname', 'CreditScore', 'Geography',\n",
            "       'Gender', 'Age', 'Tenure', 'Balance', 'NumOfProducts', 'HasCrCard',\n",
            "       'IsActiveMember', 'EstimatedSalary', 'Exited'],\n",
            "      dtype='object')\n"
          ],
          "name": "stdout"
        }
      ]
    },
    {
      "cell_type": "code",
      "metadata": {
        "execution": {
          "iopub.execute_input": "2021-03-22T13:20:42.089919Z",
          "iopub.status.busy": "2021-03-22T13:20:42.089170Z",
          "iopub.status.idle": "2021-03-22T13:20:42.106301Z",
          "shell.execute_reply": "2021-03-22T13:20:42.105677Z"
        },
        "papermill": {
          "duration": 0.052402,
          "end_time": "2021-03-22T13:20:42.106446",
          "exception": false,
          "start_time": "2021-03-22T13:20:42.054044",
          "status": "completed"
        },
        "tags": [],
        "colab": {
          "base_uri": "https://localhost:8080/"
        },
        "id": "RxKMylMAnNcR",
        "outputId": "1091cf2d-844e-4d5c-e491-bf49bc15a201"
      },
      "source": [
        "print(data.info())"
      ],
      "execution_count": 4,
      "outputs": [
        {
          "output_type": "stream",
          "text": [
            "<class 'pandas.core.frame.DataFrame'>\n",
            "RangeIndex: 110000 entries, 0 to 109999\n",
            "Data columns (total 14 columns):\n",
            " #   Column           Non-Null Count   Dtype  \n",
            "---  ------           --------------   -----  \n",
            " 0   RowNumber        110000 non-null  int64  \n",
            " 1   CustomerId       110000 non-null  int64  \n",
            " 2   Surname          110000 non-null  object \n",
            " 3   CreditScore      110000 non-null  int64  \n",
            " 4   Geography        110000 non-null  object \n",
            " 5   Gender           110000 non-null  object \n",
            " 6   Age              110000 non-null  int64  \n",
            " 7   Tenure           110000 non-null  int64  \n",
            " 8   Balance          110000 non-null  float64\n",
            " 9   NumOfProducts    110000 non-null  int64  \n",
            " 10  HasCrCard        110000 non-null  int64  \n",
            " 11  IsActiveMember   110000 non-null  int64  \n",
            " 12  EstimatedSalary  110000 non-null  float64\n",
            " 13  Exited           110000 non-null  int64  \n",
            "dtypes: float64(2), int64(9), object(3)\n",
            "memory usage: 11.7+ MB\n",
            "None\n"
          ],
          "name": "stdout"
        }
      ]
    },
    {
      "cell_type": "code",
      "metadata": {
        "execution": {
          "iopub.execute_input": "2021-03-22T13:20:42.164161Z",
          "iopub.status.busy": "2021-03-22T13:20:42.163165Z",
          "iopub.status.idle": "2021-03-22T13:20:42.182893Z",
          "shell.execute_reply": "2021-03-22T13:20:42.182264Z"
        },
        "papermill": {
          "duration": 0.052472,
          "end_time": "2021-03-22T13:20:42.183038",
          "exception": false,
          "start_time": "2021-03-22T13:20:42.130566",
          "status": "completed"
        },
        "tags": [],
        "colab": {
          "base_uri": "https://localhost:8080/",
          "height": 204
        },
        "id": "nVkt-u7onNcS",
        "outputId": "076d984c-38e3-495d-e441-b6eef0d5bc5b"
      },
      "source": [
        "data.sample(5)"
      ],
      "execution_count": 5,
      "outputs": [
        {
          "output_type": "execute_result",
          "data": {
            "text/html": [
              "<div>\n",
              "<style scoped>\n",
              "    .dataframe tbody tr th:only-of-type {\n",
              "        vertical-align: middle;\n",
              "    }\n",
              "\n",
              "    .dataframe tbody tr th {\n",
              "        vertical-align: top;\n",
              "    }\n",
              "\n",
              "    .dataframe thead th {\n",
              "        text-align: right;\n",
              "    }\n",
              "</style>\n",
              "<table border=\"1\" class=\"dataframe\">\n",
              "  <thead>\n",
              "    <tr style=\"text-align: right;\">\n",
              "      <th></th>\n",
              "      <th>RowNumber</th>\n",
              "      <th>CustomerId</th>\n",
              "      <th>Surname</th>\n",
              "      <th>CreditScore</th>\n",
              "      <th>Geography</th>\n",
              "      <th>Gender</th>\n",
              "      <th>Age</th>\n",
              "      <th>Tenure</th>\n",
              "      <th>Balance</th>\n",
              "      <th>NumOfProducts</th>\n",
              "      <th>HasCrCard</th>\n",
              "      <th>IsActiveMember</th>\n",
              "      <th>EstimatedSalary</th>\n",
              "      <th>Exited</th>\n",
              "    </tr>\n",
              "  </thead>\n",
              "  <tbody>\n",
              "    <tr>\n",
              "      <th>101481</th>\n",
              "      <td>101482</td>\n",
              "      <td>15683748</td>\n",
              "      <td>McGuigan</td>\n",
              "      <td>592</td>\n",
              "      <td>Spain</td>\n",
              "      <td>Male</td>\n",
              "      <td>38</td>\n",
              "      <td>8</td>\n",
              "      <td>0.000</td>\n",
              "      <td>2</td>\n",
              "      <td>1</td>\n",
              "      <td>0</td>\n",
              "      <td>180426.200</td>\n",
              "      <td>0</td>\n",
              "    </tr>\n",
              "    <tr>\n",
              "      <th>104859</th>\n",
              "      <td>104860</td>\n",
              "      <td>15747111</td>\n",
              "      <td>White</td>\n",
              "      <td>794</td>\n",
              "      <td>Spain</td>\n",
              "      <td>Female</td>\n",
              "      <td>22</td>\n",
              "      <td>4</td>\n",
              "      <td>114440.240</td>\n",
              "      <td>1</td>\n",
              "      <td>1</td>\n",
              "      <td>1</td>\n",
              "      <td>107753.070</td>\n",
              "      <td>0</td>\n",
              "    </tr>\n",
              "    <tr>\n",
              "      <th>9518</th>\n",
              "      <td>9519</td>\n",
              "      <td>15714920</td>\n",
              "      <td>Balashov</td>\n",
              "      <td>585</td>\n",
              "      <td>Germany</td>\n",
              "      <td>Male</td>\n",
              "      <td>44</td>\n",
              "      <td>7</td>\n",
              "      <td>163867.860</td>\n",
              "      <td>1</td>\n",
              "      <td>1</td>\n",
              "      <td>1</td>\n",
              "      <td>112333.220</td>\n",
              "      <td>0</td>\n",
              "    </tr>\n",
              "    <tr>\n",
              "      <th>2914</th>\n",
              "      <td>2915</td>\n",
              "      <td>15733883</td>\n",
              "      <td>Ward</td>\n",
              "      <td>604</td>\n",
              "      <td>France</td>\n",
              "      <td>Male</td>\n",
              "      <td>28</td>\n",
              "      <td>7</td>\n",
              "      <td>0.000</td>\n",
              "      <td>2</td>\n",
              "      <td>0</td>\n",
              "      <td>0</td>\n",
              "      <td>58595.640</td>\n",
              "      <td>0</td>\n",
              "    </tr>\n",
              "    <tr>\n",
              "      <th>95788</th>\n",
              "      <td>95789</td>\n",
              "      <td>15784566</td>\n",
              "      <td>Roberts</td>\n",
              "      <td>602</td>\n",
              "      <td>France</td>\n",
              "      <td>Female</td>\n",
              "      <td>42</td>\n",
              "      <td>10</td>\n",
              "      <td>0.000</td>\n",
              "      <td>2</td>\n",
              "      <td>0</td>\n",
              "      <td>0</td>\n",
              "      <td>169921.110</td>\n",
              "      <td>1</td>\n",
              "    </tr>\n",
              "  </tbody>\n",
              "</table>\n",
              "</div>"
            ],
            "text/plain": [
              "        RowNumber  CustomerId  ... EstimatedSalary  Exited\n",
              "101481     101482    15683748  ...      180426.200       0\n",
              "104859     104860    15747111  ...      107753.070       0\n",
              "9518         9519    15714920  ...      112333.220       0\n",
              "2914         2915    15733883  ...       58595.640       0\n",
              "95788       95789    15784566  ...      169921.110       1\n",
              "\n",
              "[5 rows x 14 columns]"
            ]
          },
          "metadata": {
            "tags": []
          },
          "execution_count": 5
        }
      ]
    },
    {
      "cell_type": "code",
      "metadata": {
        "execution": {
          "iopub.execute_input": "2021-03-22T13:20:42.245384Z",
          "iopub.status.busy": "2021-03-22T13:20:42.244062Z",
          "iopub.status.idle": "2021-03-22T13:20:42.250506Z",
          "shell.execute_reply": "2021-03-22T13:20:42.250981Z"
        },
        "papermill": {
          "duration": 0.043218,
          "end_time": "2021-03-22T13:20:42.251154",
          "exception": false,
          "start_time": "2021-03-22T13:20:42.207936",
          "status": "completed"
        },
        "tags": [],
        "colab": {
          "base_uri": "https://localhost:8080/"
        },
        "id": "G4f5cILlnNcS",
        "outputId": "ce658f52-721b-49cd-fb75-8855ad78bd52"
      },
      "source": [
        "def missing_values(data):    \n",
        "    for col in data.columns.tolist():          \n",
        "        print('{} column missing values: {}'.format(col, data[col].isnull().sum()))\n",
        "\n",
        "print('{}'.format(data.name), 'missing values:')\n",
        "missing_values(data)"
      ],
      "execution_count": 6,
      "outputs": [
        {
          "output_type": "stream",
          "text": [
            "Data Set missing values:\n",
            "RowNumber column missing values: 0\n",
            "CustomerId column missing values: 0\n",
            "Surname column missing values: 0\n",
            "CreditScore column missing values: 0\n",
            "Geography column missing values: 0\n",
            "Gender column missing values: 0\n",
            "Age column missing values: 0\n",
            "Tenure column missing values: 0\n",
            "Balance column missing values: 0\n",
            "NumOfProducts column missing values: 0\n",
            "HasCrCard column missing values: 0\n",
            "IsActiveMember column missing values: 0\n",
            "EstimatedSalary column missing values: 0\n",
            "Exited column missing values: 0\n"
          ],
          "name": "stdout"
        }
      ]
    },
    {
      "cell_type": "markdown",
      "metadata": {
        "papermill": {
          "duration": 0.025154,
          "end_time": "2021-03-22T13:20:42.301613",
          "exception": false,
          "start_time": "2021-03-22T13:20:42.276459",
          "status": "completed"
        },
        "tags": [],
        "id": "u51te-kxnNcT"
      },
      "source": [
        "**2.2 Basic summary statistics about the data**"
      ]
    },
    {
      "cell_type": "code",
      "metadata": {
        "execution": {
          "iopub.execute_input": "2021-03-22T13:20:42.362282Z",
          "iopub.status.busy": "2021-03-22T13:20:42.358277Z",
          "iopub.status.idle": "2021-03-22T13:20:42.397968Z",
          "shell.execute_reply": "2021-03-22T13:20:42.398435Z"
        },
        "papermill": {
          "duration": 0.071385,
          "end_time": "2021-03-22T13:20:42.398626",
          "exception": false,
          "start_time": "2021-03-22T13:20:42.327241",
          "status": "completed"
        },
        "tags": [],
        "colab": {
          "base_uri": "https://localhost:8080/",
          "height": 328
        },
        "id": "4gJGjr5JnNcT",
        "outputId": "7ae4e457-6488-4c45-9bc6-d1aa6c4aea5c"
      },
      "source": [
        "data.iloc[:,2:len(data)].describe([0.1,0.25,0.5,0.75,0.99]).T"
      ],
      "execution_count": 7,
      "outputs": [
        {
          "output_type": "execute_result",
          "data": {
            "text/html": [
              "<div>\n",
              "<style scoped>\n",
              "    .dataframe tbody tr th:only-of-type {\n",
              "        vertical-align: middle;\n",
              "    }\n",
              "\n",
              "    .dataframe tbody tr th {\n",
              "        vertical-align: top;\n",
              "    }\n",
              "\n",
              "    .dataframe thead th {\n",
              "        text-align: right;\n",
              "    }\n",
              "</style>\n",
              "<table border=\"1\" class=\"dataframe\">\n",
              "  <thead>\n",
              "    <tr style=\"text-align: right;\">\n",
              "      <th></th>\n",
              "      <th>count</th>\n",
              "      <th>mean</th>\n",
              "      <th>std</th>\n",
              "      <th>min</th>\n",
              "      <th>10%</th>\n",
              "      <th>25%</th>\n",
              "      <th>50%</th>\n",
              "      <th>75%</th>\n",
              "      <th>99%</th>\n",
              "      <th>max</th>\n",
              "    </tr>\n",
              "  </thead>\n",
              "  <tbody>\n",
              "    <tr>\n",
              "      <th>CreditScore</th>\n",
              "      <td>110000.000</td>\n",
              "      <td>650.529</td>\n",
              "      <td>96.649</td>\n",
              "      <td>350.000</td>\n",
              "      <td>521.000</td>\n",
              "      <td>584.000</td>\n",
              "      <td>652.000</td>\n",
              "      <td>718.000</td>\n",
              "      <td>850.000</td>\n",
              "      <td>850.000</td>\n",
              "    </tr>\n",
              "    <tr>\n",
              "      <th>Age</th>\n",
              "      <td>110000.000</td>\n",
              "      <td>38.922</td>\n",
              "      <td>10.487</td>\n",
              "      <td>18.000</td>\n",
              "      <td>27.000</td>\n",
              "      <td>32.000</td>\n",
              "      <td>37.000</td>\n",
              "      <td>44.000</td>\n",
              "      <td>72.000</td>\n",
              "      <td>92.000</td>\n",
              "    </tr>\n",
              "    <tr>\n",
              "      <th>Tenure</th>\n",
              "      <td>110000.000</td>\n",
              "      <td>5.013</td>\n",
              "      <td>2.892</td>\n",
              "      <td>0.000</td>\n",
              "      <td>1.000</td>\n",
              "      <td>3.000</td>\n",
              "      <td>5.000</td>\n",
              "      <td>7.000</td>\n",
              "      <td>10.000</td>\n",
              "      <td>10.000</td>\n",
              "    </tr>\n",
              "    <tr>\n",
              "      <th>Balance</th>\n",
              "      <td>110000.000</td>\n",
              "      <td>76485.889</td>\n",
              "      <td>62394.569</td>\n",
              "      <td>0.000</td>\n",
              "      <td>0.000</td>\n",
              "      <td>0.000</td>\n",
              "      <td>97198.540</td>\n",
              "      <td>127644.240</td>\n",
              "      <td>185967.985</td>\n",
              "      <td>250898.090</td>\n",
              "    </tr>\n",
              "    <tr>\n",
              "      <th>NumOfProducts</th>\n",
              "      <td>110000.000</td>\n",
              "      <td>1.530</td>\n",
              "      <td>0.582</td>\n",
              "      <td>1.000</td>\n",
              "      <td>1.000</td>\n",
              "      <td>1.000</td>\n",
              "      <td>1.000</td>\n",
              "      <td>2.000</td>\n",
              "      <td>3.000</td>\n",
              "      <td>4.000</td>\n",
              "    </tr>\n",
              "    <tr>\n",
              "      <th>HasCrCard</th>\n",
              "      <td>110000.000</td>\n",
              "      <td>0.706</td>\n",
              "      <td>0.456</td>\n",
              "      <td>0.000</td>\n",
              "      <td>0.000</td>\n",
              "      <td>0.000</td>\n",
              "      <td>1.000</td>\n",
              "      <td>1.000</td>\n",
              "      <td>1.000</td>\n",
              "      <td>1.000</td>\n",
              "    </tr>\n",
              "    <tr>\n",
              "      <th>IsActiveMember</th>\n",
              "      <td>110000.000</td>\n",
              "      <td>0.515</td>\n",
              "      <td>0.500</td>\n",
              "      <td>0.000</td>\n",
              "      <td>0.000</td>\n",
              "      <td>0.000</td>\n",
              "      <td>1.000</td>\n",
              "      <td>1.000</td>\n",
              "      <td>1.000</td>\n",
              "      <td>1.000</td>\n",
              "    </tr>\n",
              "    <tr>\n",
              "      <th>EstimatedSalary</th>\n",
              "      <td>110000.000</td>\n",
              "      <td>100090.240</td>\n",
              "      <td>57507.879</td>\n",
              "      <td>11.580</td>\n",
              "      <td>20273.580</td>\n",
              "      <td>51002.110</td>\n",
              "      <td>100193.915</td>\n",
              "      <td>149388.247</td>\n",
              "      <td>198069.734</td>\n",
              "      <td>199992.480</td>\n",
              "    </tr>\n",
              "    <tr>\n",
              "      <th>Exited</th>\n",
              "      <td>110000.000</td>\n",
              "      <td>0.204</td>\n",
              "      <td>0.403</td>\n",
              "      <td>0.000</td>\n",
              "      <td>0.000</td>\n",
              "      <td>0.000</td>\n",
              "      <td>0.000</td>\n",
              "      <td>0.000</td>\n",
              "      <td>1.000</td>\n",
              "      <td>1.000</td>\n",
              "    </tr>\n",
              "  </tbody>\n",
              "</table>\n",
              "</div>"
            ],
            "text/plain": [
              "                     count       mean  ...        99%        max\n",
              "CreditScore     110000.000    650.529  ...    850.000    850.000\n",
              "Age             110000.000     38.922  ...     72.000     92.000\n",
              "Tenure          110000.000      5.013  ...     10.000     10.000\n",
              "Balance         110000.000  76485.889  ... 185967.985 250898.090\n",
              "NumOfProducts   110000.000      1.530  ...      3.000      4.000\n",
              "HasCrCard       110000.000      0.706  ...      1.000      1.000\n",
              "IsActiveMember  110000.000      0.515  ...      1.000      1.000\n",
              "EstimatedSalary 110000.000 100090.240  ... 198069.734 199992.480\n",
              "Exited          110000.000      0.204  ...      1.000      1.000\n",
              "\n",
              "[9 rows x 10 columns]"
            ]
          },
          "metadata": {
            "tags": []
          },
          "execution_count": 7
        }
      ]
    },
    {
      "cell_type": "code",
      "metadata": {
        "execution": {
          "iopub.execute_input": "2021-03-22T13:20:42.459947Z",
          "iopub.status.busy": "2021-03-22T13:20:42.458874Z",
          "iopub.status.idle": "2021-03-22T13:20:42.472213Z",
          "shell.execute_reply": "2021-03-22T13:20:42.471546Z"
        },
        "papermill": {
          "duration": 0.047759,
          "end_time": "2021-03-22T13:20:42.472356",
          "exception": false,
          "start_time": "2021-03-22T13:20:42.424597",
          "status": "completed"
        },
        "tags": [],
        "colab": {
          "base_uri": "https://localhost:8080/",
          "height": 142
        },
        "id": "ti62EWV5nNcT",
        "outputId": "0ebf2c9b-2a2b-459a-dffc-412bce9ff4cf"
      },
      "source": [
        "data[[\"Geography\", \"Exited\"]].groupby(['Geography'], as_index=False).mean().sort_values(by='Exited', ascending=False)"
      ],
      "execution_count": 8,
      "outputs": [
        {
          "output_type": "execute_result",
          "data": {
            "text/html": [
              "<div>\n",
              "<style scoped>\n",
              "    .dataframe tbody tr th:only-of-type {\n",
              "        vertical-align: middle;\n",
              "    }\n",
              "\n",
              "    .dataframe tbody tr th {\n",
              "        vertical-align: top;\n",
              "    }\n",
              "\n",
              "    .dataframe thead th {\n",
              "        text-align: right;\n",
              "    }\n",
              "</style>\n",
              "<table border=\"1\" class=\"dataframe\">\n",
              "  <thead>\n",
              "    <tr style=\"text-align: right;\">\n",
              "      <th></th>\n",
              "      <th>Geography</th>\n",
              "      <th>Exited</th>\n",
              "    </tr>\n",
              "  </thead>\n",
              "  <tbody>\n",
              "    <tr>\n",
              "      <th>1</th>\n",
              "      <td>Germany</td>\n",
              "      <td>0.324</td>\n",
              "    </tr>\n",
              "    <tr>\n",
              "      <th>2</th>\n",
              "      <td>Spain</td>\n",
              "      <td>0.167</td>\n",
              "    </tr>\n",
              "    <tr>\n",
              "      <th>0</th>\n",
              "      <td>France</td>\n",
              "      <td>0.162</td>\n",
              "    </tr>\n",
              "  </tbody>\n",
              "</table>\n",
              "</div>"
            ],
            "text/plain": [
              "  Geography  Exited\n",
              "1   Germany   0.324\n",
              "2     Spain   0.167\n",
              "0    France   0.162"
            ]
          },
          "metadata": {
            "tags": []
          },
          "execution_count": 8
        }
      ]
    },
    {
      "cell_type": "code",
      "metadata": {
        "execution": {
          "iopub.execute_input": "2021-03-22T13:20:42.537888Z",
          "iopub.status.busy": "2021-03-22T13:20:42.536918Z",
          "iopub.status.idle": "2021-03-22T13:20:42.978177Z",
          "shell.execute_reply": "2021-03-22T13:20:42.978683Z"
        },
        "papermill": {
          "duration": 0.479585,
          "end_time": "2021-03-22T13:20:42.978868",
          "exception": false,
          "start_time": "2021-03-22T13:20:42.499283",
          "status": "completed"
        },
        "tags": [],
        "colab": {
          "base_uri": "https://localhost:8080/",
          "height": 386
        },
        "id": "t8UPXVWHnNcU",
        "outputId": "143b488f-1f6d-4654-f128-dc817efd6ece"
      },
      "source": [
        "g= sns.catplot(x = \"Geography\", y = \"Exited\", data = data, kind = \"bar\", height = 5)\n",
        "g.set_ylabels(\"Churn Probability\")\n",
        "plt.show()"
      ],
      "execution_count": 9,
      "outputs": [
        {
          "output_type": "display_data",
          "data": {
            "image/png": "[encoded data removed]",
            "text/plain": [
              "<Figure size 360x360 with 1 Axes>"
            ]
          },
          "metadata": {
            "tags": [],
            "needs_background": "light"
          }
        }
      ]
    },
    {
      "cell_type": "code",
      "metadata": {
        "execution": {
          "iopub.execute_input": "2021-03-22T13:20:43.041784Z",
          "iopub.status.busy": "2021-03-22T13:20:43.041124Z",
          "iopub.status.idle": "2021-03-22T13:20:43.052459Z",
          "shell.execute_reply": "2021-03-22T13:20:43.053121Z"
        },
        "papermill": {
          "duration": 0.046554,
          "end_time": "2021-03-22T13:20:43.053294",
          "exception": false,
          "start_time": "2021-03-22T13:20:43.006740",
          "status": "completed"
        },
        "tags": [],
        "colab": {
          "base_uri": "https://localhost:8080/",
          "height": 111
        },
        "id": "WVeWrB6NnNcU",
        "outputId": "e859ceb9-39a1-402c-cbe3-9b2352615104"
      },
      "source": [
        "data[[\"Gender\", \"Exited\"]].groupby(['Gender'], as_index=False).mean().sort_values(by='Exited', ascending=False)"
      ],
      "execution_count": 11,
      "outputs": [
        {
          "output_type": "execute_result",
          "data": {
            "text/html": [
              "<div>\n",
              "<style scoped>\n",
              "    .dataframe tbody tr th:only-of-type {\n",
              "        vertical-align: middle;\n",
              "    }\n",
              "\n",
              "    .dataframe tbody tr th {\n",
              "        vertical-align: top;\n",
              "    }\n",
              "\n",
              "    .dataframe thead th {\n",
              "        text-align: right;\n",
              "    }\n",
              "</style>\n",
              "<table border=\"1\" class=\"dataframe\">\n",
              "  <thead>\n",
              "    <tr style=\"text-align: right;\">\n",
              "      <th></th>\n",
              "      <th>Gender</th>\n",
              "      <th>Exited</th>\n",
              "    </tr>\n",
              "  </thead>\n",
              "  <tbody>\n",
              "    <tr>\n",
              "      <th>0</th>\n",
              "      <td>Female</td>\n",
              "      <td>0.251</td>\n",
              "    </tr>\n",
              "    <tr>\n",
              "      <th>1</th>\n",
              "      <td>Male</td>\n",
              "      <td>0.165</td>\n",
              "    </tr>\n",
              "  </tbody>\n",
              "</table>\n",
              "</div>"
            ],
            "text/plain": [
              "   Gender  Exited\n",
              "0  Female   0.251\n",
              "1    Male   0.165"
            ]
          },
          "metadata": {
            "tags": []
          },
          "execution_count": 11
        }
      ]
    },
    {
      "cell_type": "code",
      "metadata": {
        "execution": {
          "iopub.execute_input": "2021-03-22T13:20:43.113124Z",
          "iopub.status.busy": "2021-03-22T13:20:43.112470Z",
          "iopub.status.idle": "2021-03-22T13:20:43.456891Z",
          "shell.execute_reply": "2021-03-22T13:20:43.457436Z"
        },
        "papermill": {
          "duration": 0.376071,
          "end_time": "2021-03-22T13:20:43.457621",
          "exception": false,
          "start_time": "2021-03-22T13:20:43.081550",
          "status": "completed"
        },
        "tags": [],
        "colab": {
          "base_uri": "https://localhost:8080/",
          "height": 386
        },
        "id": "cIDYVNhrnNcU",
        "outputId": "07e1f919-d53f-4be8-f074-e93485582898"
      },
      "source": [
        "g= sns.catplot(x = \"Gender\", y = \"Exited\", data = data, kind = \"bar\", height = 5)\n",
        "g.set_ylabels(\"Churn Probability\")\n",
        "plt.show()"
      ],
      "execution_count": 12,
      "outputs": [
        {
          "output_type": "display_data",
          "data": {
            "image/png": "[encoded data removed]",
            "text/plain": [
              "<Figure size 360x360 with 1 Axes>"
            ]
          },
          "metadata": {
            "tags": [],
            "needs_background": "light"
          }
        }
      ]
    },
    {
      "cell_type": "code",
      "metadata": {
        "execution": {
          "iopub.execute_input": "2021-03-22T13:20:43.529358Z",
          "iopub.status.busy": "2021-03-22T13:20:43.528735Z",
          "iopub.status.idle": "2021-03-22T13:20:43.548802Z",
          "shell.execute_reply": "2021-03-22T13:20:43.549555Z"
        },
        "papermill": {
          "duration": 0.057845,
          "end_time": "2021-03-22T13:20:43.549811",
          "exception": false,
          "start_time": "2021-03-22T13:20:43.491966",
          "status": "completed"
        },
        "tags": [],
        "colab": {
          "base_uri": "https://localhost:8080/",
          "height": 111
        },
        "id": "cDjyMPV0nNcV",
        "outputId": "afb4f1b7-a59e-4951-96d3-546a351bca52"
      },
      "source": [
        "data[[\"HasCrCard\", \"Exited\"]].groupby(['HasCrCard'], as_index=False).mean().sort_values(by='Exited', ascending=False)"
      ],
      "execution_count": 13,
      "outputs": [
        {
          "output_type": "execute_result",
          "data": {
            "text/html": [
              "<div>\n",
              "<style scoped>\n",
              "    .dataframe tbody tr th:only-of-type {\n",
              "        vertical-align: middle;\n",
              "    }\n",
              "\n",
              "    .dataframe tbody tr th {\n",
              "        vertical-align: top;\n",
              "    }\n",
              "\n",
              "    .dataframe thead th {\n",
              "        text-align: right;\n",
              "    }\n",
              "</style>\n",
              "<table border=\"1\" class=\"dataframe\">\n",
              "  <thead>\n",
              "    <tr style=\"text-align: right;\">\n",
              "      <th></th>\n",
              "      <th>HasCrCard</th>\n",
              "      <th>Exited</th>\n",
              "    </tr>\n",
              "  </thead>\n",
              "  <tbody>\n",
              "    <tr>\n",
              "      <th>0</th>\n",
              "      <td>0</td>\n",
              "      <td>0.208</td>\n",
              "    </tr>\n",
              "    <tr>\n",
              "      <th>1</th>\n",
              "      <td>1</td>\n",
              "      <td>0.202</td>\n",
              "    </tr>\n",
              "  </tbody>\n",
              "</table>\n",
              "</div>"
            ],
            "text/plain": [
              "   HasCrCard  Exited\n",
              "0          0   0.208\n",
              "1          1   0.202"
            ]
          },
          "metadata": {
            "tags": []
          },
          "execution_count": 13
        }
      ]
    },
    {
      "cell_type": "code",
      "metadata": {
        "execution": {
          "iopub.execute_input": "2021-03-22T13:20:43.630268Z",
          "iopub.status.busy": "2021-03-22T13:20:43.629467Z",
          "iopub.status.idle": "2021-03-22T13:20:43.969597Z",
          "shell.execute_reply": "2021-03-22T13:20:43.970202Z"
        },
        "papermill": {
          "duration": 0.38263,
          "end_time": "2021-03-22T13:20:43.970378",
          "exception": false,
          "start_time": "2021-03-22T13:20:43.587748",
          "status": "completed"
        },
        "tags": [],
        "colab": {
          "base_uri": "https://localhost:8080/",
          "height": 386
        },
        "id": "HZG72dMjnNcV",
        "outputId": "51786ac7-2358-4614-8c9d-56833397c7fe"
      },
      "source": [
        "g= sns.catplot(x = \"HasCrCard\", y = \"Exited\", data = data, kind = \"bar\", height = 5)\n",
        "g.set_ylabels(\"Churn Probability\")\n",
        "plt.show()"
      ],
      "execution_count": 14,
      "outputs": [
        {
          "output_type": "display_data",
          "data": {
            "image/png": "[encoded data removed]",
            "text/plain": [
              "<Figure size 360x360 with 1 Axes>"
            ]
          },
          "metadata": {
            "tags": [],
            "needs_background": "light"
          }
        }
      ]
    },
    {
      "cell_type": "code",
      "metadata": {
        "execution": {
          "iopub.execute_input": "2021-03-22T13:20:44.034782Z",
          "iopub.status.busy": "2021-03-22T13:20:44.034120Z",
          "iopub.status.idle": "2021-03-22T13:20:44.048568Z",
          "shell.execute_reply": "2021-03-22T13:20:44.048007Z"
        },
        "papermill": {
          "duration": 0.047794,
          "end_time": "2021-03-22T13:20:44.048742",
          "exception": false,
          "start_time": "2021-03-22T13:20:44.000948",
          "status": "completed"
        },
        "tags": [],
        "colab": {
          "base_uri": "https://localhost:8080/",
          "height": 111
        },
        "id": "I6ZDs872nNcY",
        "outputId": "ed7d578e-47f6-4211-d863-e00d920f3368"
      },
      "source": [
        "data[[\"IsActiveMember\", \"Exited\"]].groupby(['IsActiveMember'], as_index=False).mean().sort_values(by='Exited', ascending=False)"
      ],
      "execution_count": 15,
      "outputs": [
        {
          "output_type": "execute_result",
          "data": {
            "text/html": [
              "<div>\n",
              "<style scoped>\n",
              "    .dataframe tbody tr th:only-of-type {\n",
              "        vertical-align: middle;\n",
              "    }\n",
              "\n",
              "    .dataframe tbody tr th {\n",
              "        vertical-align: top;\n",
              "    }\n",
              "\n",
              "    .dataframe thead th {\n",
              "        text-align: right;\n",
              "    }\n",
              "</style>\n",
              "<table border=\"1\" class=\"dataframe\">\n",
              "  <thead>\n",
              "    <tr style=\"text-align: right;\">\n",
              "      <th></th>\n",
              "      <th>IsActiveMember</th>\n",
              "      <th>Exited</th>\n",
              "    </tr>\n",
              "  </thead>\n",
              "  <tbody>\n",
              "    <tr>\n",
              "      <th>0</th>\n",
              "      <td>0</td>\n",
              "      <td>0.269</td>\n",
              "    </tr>\n",
              "    <tr>\n",
              "      <th>1</th>\n",
              "      <td>1</td>\n",
              "      <td>0.143</td>\n",
              "    </tr>\n",
              "  </tbody>\n",
              "</table>\n",
              "</div>"
            ],
            "text/plain": [
              "   IsActiveMember  Exited\n",
              "0               0   0.269\n",
              "1               1   0.143"
            ]
          },
          "metadata": {
            "tags": []
          },
          "execution_count": 15
        }
      ]
    },
    {
      "cell_type": "code",
      "metadata": {
        "execution": {
          "iopub.execute_input": "2021-03-22T13:20:44.117471Z",
          "iopub.status.busy": "2021-03-22T13:20:44.116808Z",
          "iopub.status.idle": "2021-03-22T13:20:44.455689Z",
          "shell.execute_reply": "2021-03-22T13:20:44.456160Z"
        },
        "papermill": {
          "duration": 0.376218,
          "end_time": "2021-03-22T13:20:44.456413",
          "exception": false,
          "start_time": "2021-03-22T13:20:44.080195",
          "status": "completed"
        },
        "tags": [],
        "colab": {
          "base_uri": "https://localhost:8080/",
          "height": 386
        },
        "id": "GmN4be6tnNcY",
        "outputId": "87459be0-5fae-4517-b715-b030db6aea99"
      },
      "source": [
        "g= sns.catplot(x = \"IsActiveMember\", y = \"Exited\", data = data, kind = \"bar\", height = 5)\n",
        "g.set_ylabels(\"Churn Probability\")\n",
        "plt.show()"
      ],
      "execution_count": 16,
      "outputs": [
        {
          "output_type": "display_data",
          "data": {
            "image/png": "[encoded data removed]",
            "text/plain": [
              "<Figure size 360x360 with 1 Axes>"
            ]
          },
          "metadata": {
            "tags": [],
            "needs_background": "light"
          }
        }
      ]
    },
    {
      "cell_type": "code",
      "metadata": {
        "execution": {
          "iopub.execute_input": "2021-03-22T13:20:44.524395Z",
          "iopub.status.busy": "2021-03-22T13:20:44.523680Z",
          "iopub.status.idle": "2021-03-22T13:20:44.538354Z",
          "shell.execute_reply": "2021-03-22T13:20:44.538869Z"
        },
        "papermill": {
          "duration": 0.050502,
          "end_time": "2021-03-22T13:20:44.539069",
          "exception": false,
          "start_time": "2021-03-22T13:20:44.488567",
          "status": "completed"
        },
        "tags": [],
        "colab": {
          "base_uri": "https://localhost:8080/",
          "height": 173
        },
        "id": "YYPg-jpinNcY",
        "outputId": "e68dc95e-4825-44b6-ecd7-b92bfbc12552"
      },
      "source": [
        "data[[\"NumOfProducts\", \"Exited\"]].groupby(['NumOfProducts'], as_index=False).mean().sort_values(by='Exited', ascending=False)"
      ],
      "execution_count": 17,
      "outputs": [
        {
          "output_type": "execute_result",
          "data": {
            "text/html": [
              "<div>\n",
              "<style scoped>\n",
              "    .dataframe tbody tr th:only-of-type {\n",
              "        vertical-align: middle;\n",
              "    }\n",
              "\n",
              "    .dataframe tbody tr th {\n",
              "        vertical-align: top;\n",
              "    }\n",
              "\n",
              "    .dataframe thead th {\n",
              "        text-align: right;\n",
              "    }\n",
              "</style>\n",
              "<table border=\"1\" class=\"dataframe\">\n",
              "  <thead>\n",
              "    <tr style=\"text-align: right;\">\n",
              "      <th></th>\n",
              "      <th>NumOfProducts</th>\n",
              "      <th>Exited</th>\n",
              "    </tr>\n",
              "  </thead>\n",
              "  <tbody>\n",
              "    <tr>\n",
              "      <th>3</th>\n",
              "      <td>4</td>\n",
              "      <td>1.000</td>\n",
              "    </tr>\n",
              "    <tr>\n",
              "      <th>2</th>\n",
              "      <td>3</td>\n",
              "      <td>0.827</td>\n",
              "    </tr>\n",
              "    <tr>\n",
              "      <th>0</th>\n",
              "      <td>1</td>\n",
              "      <td>0.277</td>\n",
              "    </tr>\n",
              "    <tr>\n",
              "      <th>1</th>\n",
              "      <td>2</td>\n",
              "      <td>0.076</td>\n",
              "    </tr>\n",
              "  </tbody>\n",
              "</table>\n",
              "</div>"
            ],
            "text/plain": [
              "   NumOfProducts  Exited\n",
              "3              4   1.000\n",
              "2              3   0.827\n",
              "0              1   0.277\n",
              "1              2   0.076"
            ]
          },
          "metadata": {
            "tags": []
          },
          "execution_count": 17
        }
      ]
    },
    {
      "cell_type": "code",
      "metadata": {
        "execution": {
          "iopub.execute_input": "2021-03-22T13:20:44.612528Z",
          "iopub.status.busy": "2021-03-22T13:20:44.611822Z",
          "iopub.status.idle": "2021-03-22T13:20:45.035224Z",
          "shell.execute_reply": "2021-03-22T13:20:45.035812Z"
        },
        "papermill": {
          "duration": 0.463454,
          "end_time": "2021-03-22T13:20:45.036000",
          "exception": false,
          "start_time": "2021-03-22T13:20:44.572546",
          "status": "completed"
        },
        "tags": [],
        "colab": {
          "base_uri": "https://localhost:8080/",
          "height": 386
        },
        "id": "M0A9tfjJnNcZ",
        "outputId": "36e003dc-f243-4de7-8f4a-d6419b1d956f"
      },
      "source": [
        "g= sns.catplot(x = \"NumOfProducts\", y = \"Exited\", data = data, kind = \"bar\", height = 5)\n",
        "g.set_ylabels(\"Churn Probability\")\n",
        "plt.show()"
      ],
      "execution_count": 18,
      "outputs": [
        {
          "output_type": "display_data",
          "data": {
            "image/png": "[encoded data removed]",
            "text/plain": [
              "<Figure size 360x360 with 1 Axes>"
            ]
          },
          "metadata": {
            "tags": [],
            "needs_background": "light"
          }
        }
      ]
    },
    {
      "cell_type": "markdown",
      "metadata": {
        "papermill": {
          "duration": 0.032928,
          "end_time": "2021-03-22T13:20:45.102837",
          "exception": false,
          "start_time": "2021-03-22T13:20:45.069909",
          "status": "completed"
        },
        "tags": [],
        "id": "D_Fj8iY2nNcZ"
      },
      "source": [
        "2.3 Correlation matrix"
      ]
    },
    {
      "cell_type": "code",
      "metadata": {
        "execution": {
          "iopub.execute_input": "2021-03-22T13:20:45.172946Z",
          "iopub.status.busy": "2021-03-22T13:20:45.172273Z",
          "iopub.status.idle": "2021-03-22T13:20:46.002350Z",
          "shell.execute_reply": "2021-03-22T13:20:46.001668Z"
        },
        "papermill": {
          "duration": 0.866546,
          "end_time": "2021-03-22T13:20:46.002495",
          "exception": false,
          "start_time": "2021-03-22T13:20:45.135949",
          "status": "completed"
        },
        "tags": [],
        "colab": {
          "base_uri": "https://localhost:8080/",
          "height": 466
        },
        "id": "MQGS4hxZnNcZ",
        "outputId": "8a082791-fd2c-464c-8b4d-4da6ae286b17"
      },
      "source": [
        "fig, axs = plt.subplots(figsize=(12, 6))\n",
        "\n",
        "sns.heatmap(data.drop(['CustomerId', 'RowNumber'], axis=1).corr(), ax=axs, annot=True, fmt = \".2f\", linewidths=0.5, cmap='coolwarm')\n",
        "\n",
        "axs.tick_params(axis='x', labelsize=10)\n",
        "axs.tick_params(axis='y', labelsize=10)\n",
        "\n",
        "axs.set_title('Data Set Correlations', size=15)\n",
        "\n",
        "plt.show()"
      ],
      "execution_count": 19,
      "outputs": [
        {
          "output_type": "display_data",
          "data": {
            "image/png": "[encoded data removed]",
            "text/plain": [
              "<Figure size 864x432 with 2 Axes>"
            ]
          },
          "metadata": {
            "tags": [],
            "needs_background": "light"
          }
        }
      ]
    },
    {
      "cell_type": "markdown",
      "metadata": {
        "papermill": {
          "duration": 0.036086,
          "end_time": "2021-03-22T13:20:46.074354",
          "exception": false,
          "start_time": "2021-03-22T13:20:46.038268",
          "status": "completed"
        },
        "tags": [],
        "id": "lT2TdoiznNca"
      },
      "source": [
        "# 3. Data Preprocessing"
      ]
    },
    {
      "cell_type": "code",
      "metadata": {
        "execution": {
          "iopub.execute_input": "2021-03-22T13:20:46.154448Z",
          "iopub.status.busy": "2021-03-22T13:20:46.152781Z",
          "iopub.status.idle": "2021-03-22T13:20:46.160569Z",
          "shell.execute_reply": "2021-03-22T13:20:46.159903Z"
        },
        "papermill": {
          "duration": 0.049636,
          "end_time": "2021-03-22T13:20:46.160731",
          "exception": false,
          "start_time": "2021-03-22T13:20:46.111095",
          "status": "completed"
        },
        "tags": [],
        "id": "82Ku31konNca"
      },
      "source": [
        "data.drop(\"RowNumber\", axis = 1, inplace = True)\n",
        "data.drop(\"Surname\", axis = 1, inplace = True)\n",
        "data.drop(\"CustomerId\", axis = 1, inplace = True)"
      ],
      "execution_count": 20,
      "outputs": []
    },
    {
      "cell_type": "code",
      "metadata": {
        "execution": {
          "iopub.execute_input": "2021-03-22T13:20:46.246445Z",
          "iopub.status.busy": "2021-03-22T13:20:46.245500Z",
          "iopub.status.idle": "2021-03-22T13:20:46.249837Z",
          "shell.execute_reply": "2021-03-22T13:20:46.250389Z"
        },
        "papermill": {
          "duration": 0.054247,
          "end_time": "2021-03-22T13:20:46.250555",
          "exception": false,
          "start_time": "2021-03-22T13:20:46.196308",
          "status": "completed"
        },
        "tags": [],
        "colab": {
          "base_uri": "https://localhost:8080/",
          "height": 204
        },
        "id": "qWSbSFsHnNca",
        "outputId": "2220b556-78c6-4903-8f79-4f0e1abf001b"
      },
      "source": [
        "data.sample(5)"
      ],
      "execution_count": 21,
      "outputs": [
        {
          "output_type": "execute_result",
          "data": {
            "text/html": [
              "<div>\n",
              "<style scoped>\n",
              "    .dataframe tbody tr th:only-of-type {\n",
              "        vertical-align: middle;\n",
              "    }\n",
              "\n",
              "    .dataframe tbody tr th {\n",
              "        vertical-align: top;\n",
              "    }\n",
              "\n",
              "    .dataframe thead th {\n",
              "        text-align: right;\n",
              "    }\n",
              "</style>\n",
              "<table border=\"1\" class=\"dataframe\">\n",
              "  <thead>\n",
              "    <tr style=\"text-align: right;\">\n",
              "      <th></th>\n",
              "      <th>CreditScore</th>\n",
              "      <th>Geography</th>\n",
              "      <th>Gender</th>\n",
              "      <th>Age</th>\n",
              "      <th>Tenure</th>\n",
              "      <th>Balance</th>\n",
              "      <th>NumOfProducts</th>\n",
              "      <th>HasCrCard</th>\n",
              "      <th>IsActiveMember</th>\n",
              "      <th>EstimatedSalary</th>\n",
              "      <th>Exited</th>\n",
              "    </tr>\n",
              "  </thead>\n",
              "  <tbody>\n",
              "    <tr>\n",
              "      <th>3266</th>\n",
              "      <td>537</td>\n",
              "      <td>Spain</td>\n",
              "      <td>Male</td>\n",
              "      <td>30</td>\n",
              "      <td>1</td>\n",
              "      <td>103138.170</td>\n",
              "      <td>1</td>\n",
              "      <td>1</td>\n",
              "      <td>1</td>\n",
              "      <td>96555.420</td>\n",
              "      <td>0</td>\n",
              "    </tr>\n",
              "    <tr>\n",
              "      <th>47113</th>\n",
              "      <td>733</td>\n",
              "      <td>France</td>\n",
              "      <td>Female</td>\n",
              "      <td>24</td>\n",
              "      <td>3</td>\n",
              "      <td>161884.990</td>\n",
              "      <td>1</td>\n",
              "      <td>1</td>\n",
              "      <td>1</td>\n",
              "      <td>9617.240</td>\n",
              "      <td>0</td>\n",
              "    </tr>\n",
              "    <tr>\n",
              "      <th>48814</th>\n",
              "      <td>740</td>\n",
              "      <td>France</td>\n",
              "      <td>Female</td>\n",
              "      <td>51</td>\n",
              "      <td>4</td>\n",
              "      <td>0.000</td>\n",
              "      <td>2</td>\n",
              "      <td>1</td>\n",
              "      <td>1</td>\n",
              "      <td>178929.840</td>\n",
              "      <td>0</td>\n",
              "    </tr>\n",
              "    <tr>\n",
              "      <th>82177</th>\n",
              "      <td>667</td>\n",
              "      <td>France</td>\n",
              "      <td>Female</td>\n",
              "      <td>24</td>\n",
              "      <td>4</td>\n",
              "      <td>0.000</td>\n",
              "      <td>2</td>\n",
              "      <td>0</td>\n",
              "      <td>1</td>\n",
              "      <td>34335.550</td>\n",
              "      <td>0</td>\n",
              "    </tr>\n",
              "    <tr>\n",
              "      <th>79637</th>\n",
              "      <td>790</td>\n",
              "      <td>France</td>\n",
              "      <td>Female</td>\n",
              "      <td>31</td>\n",
              "      <td>2</td>\n",
              "      <td>151290.160</td>\n",
              "      <td>1</td>\n",
              "      <td>1</td>\n",
              "      <td>1</td>\n",
              "      <td>172437.120</td>\n",
              "      <td>0</td>\n",
              "    </tr>\n",
              "  </tbody>\n",
              "</table>\n",
              "</div>"
            ],
            "text/plain": [
              "       CreditScore Geography  Gender  ...  IsActiveMember  EstimatedSalary  Exited\n",
              "3266           537     Spain    Male  ...               1        96555.420       0\n",
              "47113          733    France  Female  ...               1         9617.240       0\n",
              "48814          740    France  Female  ...               1       178929.840       0\n",
              "82177          667    France  Female  ...               1        34335.550       0\n",
              "79637          790    France  Female  ...               1       172437.120       0\n",
              "\n",
              "[5 rows x 11 columns]"
            ]
          },
          "metadata": {
            "tags": []
          },
          "execution_count": 21
        }
      ]
    },
    {
      "cell_type": "markdown",
      "metadata": {
        "papermill": {
          "duration": 0.036337,
          "end_time": "2021-03-22T13:20:46.322867",
          "exception": false,
          "start_time": "2021-03-22T13:20:46.286530",
          "status": "completed"
        },
        "tags": [],
        "id": "mEStNYTanNca"
      },
      "source": [
        "3.1 Label encoding of gender variable"
      ]
    },
    {
      "cell_type": "code",
      "metadata": {
        "execution": {
          "iopub.execute_input": "2021-03-22T13:20:46.408692Z",
          "iopub.status.busy": "2021-03-22T13:20:46.408009Z",
          "iopub.status.idle": "2021-03-22T13:20:46.411503Z",
          "shell.execute_reply": "2021-03-22T13:20:46.410923Z"
        },
        "papermill": {
          "duration": 0.051816,
          "end_time": "2021-03-22T13:20:46.411677",
          "exception": false,
          "start_time": "2021-03-22T13:20:46.359861",
          "status": "completed"
        },
        "tags": [],
        "id": "yDS2wrlanNcb"
      },
      "source": [
        "enc = LabelEncoder()\n",
        "data['Gender'] = enc.fit_transform(data['Gender'])"
      ],
      "execution_count": 22,
      "outputs": []
    },
    {
      "cell_type": "markdown",
      "metadata": {
        "papermill": {
          "duration": 0.036206,
          "end_time": "2021-03-22T13:20:46.484277",
          "exception": false,
          "start_time": "2021-03-22T13:20:46.448071",
          "status": "completed"
        },
        "tags": [],
        "id": "83jU-ItZnNcb"
      },
      "source": [
        "3.2 One hot encoding of Geography (Country)"
      ]
    },
    {
      "cell_type": "code",
      "metadata": {
        "execution": {
          "iopub.execute_input": "2021-03-22T13:20:46.564684Z",
          "iopub.status.busy": "2021-03-22T13:20:46.563728Z",
          "iopub.status.idle": "2021-03-22T13:20:46.572249Z",
          "shell.execute_reply": "2021-03-22T13:20:46.571641Z"
        },
        "papermill": {
          "duration": 0.051687,
          "end_time": "2021-03-22T13:20:46.572408",
          "exception": false,
          "start_time": "2021-03-22T13:20:46.520721",
          "status": "completed"
        },
        "tags": [],
        "id": "03Lucw9znNcb"
      },
      "source": [
        "data = pd.get_dummies(data, columns = ['Geography'])"
      ],
      "execution_count": 23,
      "outputs": []
    },
    {
      "cell_type": "markdown",
      "metadata": {
        "papermill": {
          "duration": 0.0363,
          "end_time": "2021-03-22T13:20:46.646086",
          "exception": false,
          "start_time": "2021-03-22T13:20:46.609786",
          "status": "completed"
        },
        "tags": [],
        "id": "Kwn392sbnNcb"
      },
      "source": [
        "3.3 Splitting the data as train and Test data"
      ]
    },
    {
      "cell_type": "code",
      "metadata": {
        "execution": {
          "iopub.execute_input": "2021-03-22T13:20:46.724725Z",
          "iopub.status.busy": "2021-03-22T13:20:46.724049Z",
          "iopub.status.idle": "2021-03-22T13:20:46.732546Z",
          "shell.execute_reply": "2021-03-22T13:20:46.733073Z"
        },
        "papermill": {
          "duration": 0.050633,
          "end_time": "2021-03-22T13:20:46.733256",
          "exception": false,
          "start_time": "2021-03-22T13:20:46.682623",
          "status": "completed"
        },
        "tags": [],
        "id": "zHgANQGPnNcc"
      },
      "source": [
        "train = data.sample(frac = 0.8)\n",
        "\n",
        "test = data.drop(train.index)"
      ],
      "execution_count": 24,
      "outputs": []
    },
    {
      "cell_type": "code",
      "metadata": {
        "execution": {
          "iopub.execute_input": "2021-03-22T13:20:46.813793Z",
          "iopub.status.busy": "2021-03-22T13:20:46.813131Z",
          "iopub.status.idle": "2021-03-22T13:20:46.821001Z",
          "shell.execute_reply": "2021-03-22T13:20:46.821501Z"
        },
        "papermill": {
          "duration": 0.051636,
          "end_time": "2021-03-22T13:20:46.821704",
          "exception": false,
          "start_time": "2021-03-22T13:20:46.770068",
          "status": "completed"
        },
        "tags": [],
        "id": "8s4sjH9onNcc"
      },
      "source": [
        "all_data = pd.concat((train.loc[:,:],test.loc[:,:]))\n",
        "target = all_data.Exited\n",
        "all_data.drop(\"Exited\", axis = 1, inplace = True)"
      ],
      "execution_count": 25,
      "outputs": []
    },
    {
      "cell_type": "markdown",
      "metadata": {
        "papermill": {
          "duration": 0.0367,
          "end_time": "2021-03-22T13:20:46.895877",
          "exception": false,
          "start_time": "2021-03-22T13:20:46.859177",
          "status": "completed"
        },
        "tags": [],
        "id": "SMlk28wznNcc"
      },
      "source": [
        "3.4 Scaling Features in [0,1] range"
      ]
    },
    {
      "cell_type": "code",
      "metadata": {
        "execution": {
          "iopub.execute_input": "2021-03-22T13:20:46.976552Z",
          "iopub.status.busy": "2021-03-22T13:20:46.975906Z",
          "iopub.status.idle": "2021-03-22T13:20:46.982043Z",
          "shell.execute_reply": "2021-03-22T13:20:46.982515Z"
        },
        "papermill": {
          "duration": 0.04984,
          "end_time": "2021-03-22T13:20:46.982707",
          "exception": false,
          "start_time": "2021-03-22T13:20:46.932867",
          "status": "completed"
        },
        "tags": [],
        "id": "IwJT0V7fnNcc"
      },
      "source": [
        "dataEx = MinMaxScaler().fit_transform(all_data)"
      ],
      "execution_count": 26,
      "outputs": []
    },
    {
      "cell_type": "code",
      "metadata": {
        "execution": {
          "iopub.execute_input": "2021-03-22T13:20:47.061851Z",
          "iopub.status.busy": "2021-03-22T13:20:47.061182Z",
          "iopub.status.idle": "2021-03-22T13:20:47.067468Z",
          "shell.execute_reply": "2021-03-22T13:20:47.067998Z"
        },
        "papermill": {
          "duration": 0.048031,
          "end_time": "2021-03-22T13:20:47.068168",
          "exception": false,
          "start_time": "2021-03-22T13:20:47.020137",
          "status": "completed"
        },
        "tags": [],
        "colab": {
          "base_uri": "https://localhost:8080/"
        },
        "id": "fx-XfOJbnNcc",
        "outputId": "9af2a6dc-9497-4f9d-c624-a6d07db5f301"
      },
      "source": [
        "x_train = dataEx[:train.shape[0]]\n",
        "x_test = dataEx[train.shape[0]:]\n",
        "\n",
        "y_train = train.Exited\n",
        "y_test = test.Exited\n",
        "\n",
        "x_train.shape, y_train.shape, x_test.shape, y_test.shape"
      ],
      "execution_count": 27,
      "outputs": [
        {
          "output_type": "execute_result",
          "data": {
            "text/plain": [
              "((88000, 12), (88000,), (22000, 12), (22000,))"
            ]
          },
          "metadata": {
            "tags": []
          },
          "execution_count": 27
        }
      ]
    },
    {
      "cell_type": "markdown",
      "metadata": {
        "papermill": {
          "duration": 0.038017,
          "end_time": "2021-03-22T13:20:47.144069",
          "exception": false,
          "start_time": "2021-03-22T13:20:47.106052",
          "status": "completed"
        },
        "tags": [],
        "id": "dGi8yDj_nNcd"
      },
      "source": [
        "# 4. Modeling"
      ]
    },
    {
      "cell_type": "markdown",
      "metadata": {
        "papermill": {
          "duration": 0.037403,
          "end_time": "2021-03-22T13:20:47.219367",
          "exception": false,
          "start_time": "2021-03-22T13:20:47.181964",
          "status": "completed"
        },
        "tags": [],
        "id": "50gbXT8pnNcd"
      },
      "source": [
        "4.1 Test Set Accuracy for the default models"
      ]
    },
    {
      "cell_type": "code",
      "metadata": {
        "execution": {
          "iopub.execute_input": "2021-03-22T13:20:47.298714Z",
          "iopub.status.busy": "2021-03-22T13:20:47.298017Z",
          "iopub.status.idle": "2021-03-22T13:20:47.304263Z",
          "shell.execute_reply": "2021-03-22T13:20:47.303613Z"
        },
        "papermill": {
          "duration": 0.047016,
          "end_time": "2021-03-22T13:20:47.304403",
          "exception": false,
          "start_time": "2021-03-22T13:20:47.257387",
          "status": "completed"
        },
        "tags": [],
        "id": "KGIeu8PDnNcd"
      },
      "source": [
        "r=1000\n",
        "models = [LogisticRegression(random_state=r),GaussianNB(), KNeighborsClassifier(),\n",
        "          SVC(random_state=r,probability=True),DecisionTreeClassifier(random_state=r),\n",
        "          RandomForestClassifier(random_state=r), GradientBoostingClassifier(random_state=r)]\n",
        "names = [\"LogisticRegression\",\"GaussianNB\",\"KNN\",\"SVC\",\n",
        "             \"DecisionTree\",\"Random_Forest\",\"GBM\"]"
      ],
      "execution_count": 28,
      "outputs": []
    },
    {
      "cell_type": "code",
      "metadata": {
        "execution": {
          "iopub.execute_input": "2021-03-22T13:20:47.389275Z",
          "iopub.status.busy": "2021-03-22T13:20:47.388368Z",
          "iopub.status.idle": "2021-03-22T13:21:04.694205Z",
          "shell.execute_reply": "2021-03-22T13:21:04.694762Z"
        },
        "papermill": {
          "duration": 17.351708,
          "end_time": "2021-03-22T13:21:04.694937",
          "exception": false,
          "start_time": "2021-03-22T13:20:47.343229",
          "status": "completed"
        },
        "tags": [],
        "colab": {
          "base_uri": "https://localhost:8080/"
        },
        "id": "USLaGy4WnNcd",
        "outputId": "a24c00f5-4946-4725-d613-71f87da287c1"
      },
      "source": [
        "print('Default model test accuracies for the train data:', end = \"\\n\")\n",
        "print('_____________________________________________________________________________________________________')\n",
        "for name, model in zip(names, models):\n",
        "    model.fit(x_train, y_train)\n",
        "    print(name, ': Train set accuracy :', \"%.3f\" % round(model.score(x_train, y_train)*100, 2))\n",
        "    y_pred = model.predict(x_test) \n",
        "    print('Test set accuracy :',\"%.3f\" % round(accuracy_score(y_pred, y_test)*100, 2))\n",
        "    print('_____________________________________________________________________________________________________')"
      ],
      "execution_count": null,
      "outputs": [
        {
          "output_type": "stream",
          "text": [
            "Default model test accuracies for the train data:\n",
            "_____________________________________________________________________________________________________\n",
            "LogisticRegression : Train set accuracy : 81.110\n",
            "Test set accuracy : 80.760\n",
            "_____________________________________________________________________________________________________\n",
            "GaussianNB : Train set accuracy : 81.880\n",
            "Test set accuracy : 81.730\n",
            "_____________________________________________________________________________________________________\n",
            "KNN : Train set accuracy : 100.000\n",
            "Test set accuracy : 100.000\n",
            "_____________________________________________________________________________________________________\n"
          ],
          "name": "stdout"
        }
      ]
    },
    {
      "cell_type": "markdown",
      "metadata": {
        "papermill": {
          "duration": 0.039122,
          "end_time": "2021-03-22T13:21:04.774227",
          "exception": false,
          "start_time": "2021-03-22T13:21:04.735105",
          "status": "completed"
        },
        "tags": [],
        "id": "LZKvuXvsnNce"
      },
      "source": [
        "4.2 Cross validation accuracy and std of the default models for all data"
      ]
    },
    {
      "cell_type": "code",
      "metadata": {
        "execution": {
          "iopub.execute_input": "2021-03-22T13:21:04.859130Z",
          "iopub.status.busy": "2021-03-22T13:21:04.858405Z",
          "iopub.status.idle": "2021-03-22T13:21:04.860598Z",
          "shell.execute_reply": "2021-03-22T13:21:04.861148Z"
        },
        "papermill": {
          "duration": 0.047698,
          "end_time": "2021-03-22T13:21:04.861349",
          "exception": false,
          "start_time": "2021-03-22T13:21:04.813651",
          "status": "completed"
        },
        "tags": [],
        "id": "zvM8z-MZnNce"
      },
      "source": [
        "predictors=dataEx"
      ],
      "execution_count": null,
      "outputs": []
    },
    {
      "cell_type": "code",
      "metadata": {
        "execution": {
          "iopub.execute_input": "2021-03-22T13:21:04.944449Z",
          "iopub.status.busy": "2021-03-22T13:21:04.943813Z",
          "iopub.status.idle": "2021-03-22T13:24:02.784734Z",
          "shell.execute_reply": "2021-03-22T13:24:02.785538Z"
        },
        "papermill": {
          "duration": 177.884453,
          "end_time": "2021-03-22T13:24:02.785803",
          "exception": false,
          "start_time": "2021-03-22T13:21:04.901350",
          "status": "completed"
        },
        "tags": [],
        "id": "eBgmqcW5nNce",
        "outputId": "3eacad6d-fc03-4ae2-f5b5-3c5f2fa249cc"
      },
      "source": [
        "results = []\n",
        "print('10 fold Cross validation accuracy and std of the default models for all data:', end = \"\\n\")\n",
        "print('_____________________________________________________________________________________________________')\n",
        "for name, model in zip(names, models):\n",
        "    kfold = KFold(shuffle=True, n_splits=10, random_state=1000)\n",
        "    cv_results = cross_val_score(model, predictors, target, cv = kfold, scoring = \"accuracy\")\n",
        "    results.append(cv_results)\n",
        "    print(\"{}: {} ({})\".format(name, \"%.3f\" % round(cv_results.mean()*100, 2) , \"%.3f\" %  cv_results.std()))\n",
        "    print('_____________________________________________________________________________________________________')"
      ],
      "execution_count": null,
      "outputs": [
        {
          "output_type": "stream",
          "text": [
            "10 fold Cross validation accuracy and std of the default models for all data:\n",
            "_____________________________________________________________________________________________________\n",
            "LogisticRegression: 81.070 (0.012)\n",
            "_____________________________________________________________________________________________________\n",
            "GaussianNB: 81.870 (0.016)\n",
            "_____________________________________________________________________________________________________\n",
            "KNN: 81.580 (0.013)\n",
            "_____________________________________________________________________________________________________\n",
            "SVC: 84.050 (0.011)\n",
            "_____________________________________________________________________________________________________\n",
            "DecisionTree: 79.000 (0.013)\n",
            "_____________________________________________________________________________________________________\n",
            "Random_Forest: 86.270 (0.009)\n",
            "_____________________________________________________________________________________________________\n",
            "GBM: 86.600 (0.010)\n",
            "_____________________________________________________________________________________________________\n"
          ],
          "name": "stdout"
        }
      ]
    }
  ]
}