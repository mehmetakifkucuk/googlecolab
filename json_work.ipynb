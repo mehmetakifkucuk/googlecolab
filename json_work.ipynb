{
  "nbformat": 4,
  "nbformat_minor": 0,
  "metadata": {
    "colab": {
      "name": "json_work.ipynb",
      "provenance": [],
      "collapsed_sections": [],
      "authorship_tag": "ABX9TyPChWB5crf4QocxwOY9ZAtt",
      "include_colab_link": true
    },
    "kernelspec": {
      "name": "python3",
      "display_name": "Python 3"
    },
    "language_info": {
      "name": "python"
    }
  },
  "cells": [
    {
      "cell_type": "markdown",
      "metadata": {
        "id": "view-in-github",
        "colab_type": "text"
      },
      "source": [
        "<a href=\"https://colab.research.google.com/github/mehmetakifkucuk/googlecolab/blob/main/json_work.ipynb\" target=\"_parent\"><img src=\"https://colab.research.google.com/assets/colab-badge.svg\" alt=\"Open In Colab\"/></a>"
      ]
    },
    {
      "cell_type": "code",
      "metadata": {
        "id": "c4XEWMcJB54d"
      },
      "source": [
        "# https://towardsdatascience.com/all-pandas-json-normalize-you-should-know-for-flattening-json-13eae1dfb7dd"
      ],
      "execution_count": null,
      "outputs": []
    },
    {
      "cell_type": "code",
      "metadata": {
        "id": "tzeHOCGqfEr4"
      },
      "source": [
        "import pandas as pd\n",
        "# from pandas.io.json import json_normalize"
      ],
      "execution_count": 67,
      "outputs": []
    },
    {
      "cell_type": "code",
      "metadata": {
        "id": "JEXdCSRiiKHP"
      },
      "source": [
        "#@title\n",
        "# data = [{\"id\": 1, \"name\": {\"first\": \"Coleen\", \"last\": \"Volk\"}},\n",
        "#         {\"name\": {\"given\": \"Mose\", \"family\": \"Regner\"}},\n",
        "#         {\"id\": 2, \"name\": \"Faye Raker\"}]\n",
        "\n",
        "# data = [{\"state\": \"Florida\",\n",
        "#           \"shortname\": \"FL\",\n",
        "#           \"info\": {\n",
        "#                \"governor\": \"Rick Scott\"\n",
        "#           },\n",
        "#           \"counties\": [{\"name\": \"Dade\", \"population\": 12345},\n",
        "#                       {\"name\": \"Broward\", \"population\": 40000},\n",
        "#                       {\"name\": \"Palm Beach\", \"population\": 60000}]},\n",
        "#          {\"state\": \"Ohio\",\n",
        "#           \"shortname\": \"OH\",\n",
        "#           \"info\": {\n",
        "#                \"governor\": \"John Kasich\"\n",
        "#           },\n",
        "#           \"counties\": [{\"name\": \"Summit\", \"population\": 1234},\n",
        "#                        {\"name\": \"Cuyahoga\", \"population\": 1337}]}]\n",
        "\n",
        "# data = {'etlType': 'HIVE',\n",
        "#  'duration': 369,\n",
        "#  'startTime': '2021-04-21 03:05:53.0',\n",
        "#  'entry_id': 27458444,\n",
        "#  'componentType': 'NA',\n",
        "#  'optimusTaskId': 'prod_dwh.trip',\n",
        "#  'endTime': '2021-04-21 03:12:02.0',\n",
        "#  'status': 'SUCCESS',\n",
        "#  'targetName': 'prod_dwh.trip',\n",
        "#  'message': 'NONE',\n",
        "#  'clusterName': 'ip-10-0-62-192',\n",
        "#  'authorName': 'Akif Kucuk',\n",
        "#  'updateTime': '2021-04-21 03:12:02.0'}\n",
        "\n",
        "# data = [{\n",
        "#   \"destination_addresses\": [\n",
        "#     \"Philadelphia, PA, USA\"\n",
        "#   ],\n",
        "#   \"origin_addresses\": [\n",
        "#     \"New York, NY, USA\"\n",
        "#   ],\n",
        "#   \"rows\": [{\n",
        "#     \"elements\": [{\n",
        "#       \"distance\": {\n",
        "#         \"text\": \"94.6 mi\",\n",
        "#         \"value\": 152193\n",
        "#       },\n",
        "#       \"duration\": {\n",
        "#         \"text\": \"1 hour 44 mins\",\n",
        "#         \"value\": 6227\n",
        "#       },\n",
        "#       \"status\": \"OK\"\n",
        "#     }]\n",
        "#   }],\n",
        "#   \"status\": \"OK\"\n",
        "# },\n",
        "# {\n",
        "#   \"destination_addresses\": [\n",
        "#     \"Philadelphia, PA, USA\"\n",
        "#   ],\n",
        "#   \"origin_addresses\": [\n",
        "#     \"New York, NY, USA\"\n",
        "#   ],\n",
        "#   \"rows\": [{\n",
        "#     \"elements\": [{\n",
        "#       \"distance\": {\n",
        "#         \"text\": \"94.6 mi\",\n",
        "#         \"value\": 152193\n",
        "#       },\n",
        "#       \"duration\": {\n",
        "#         \"text\": \"1 hour 44 mins\",\n",
        "#         \"value\": 6227\n",
        "#       },\n",
        "#       \"status\": \"OK\"\n",
        "#     }]\n",
        "#   }],\n",
        "#   \"status\": \"NOK\"\n",
        "# }]\n",
        "\n",
        "data = {'userId': 1, 'id': 1, 'title': 'delectus aut autem', 'completed': False}"
      ],
      "execution_count": 165,
      "outputs": []
    },
    {
      "cell_type": "code",
      "metadata": {
        "cellView": "form",
        "id": "n2L45eJOe-xf"
      },
      "source": [
        "#@title\n",
        "data"
      ],
      "execution_count": null,
      "outputs": []
    },
    {
      "cell_type": "code",
      "metadata": {
        "id": "jQfEYoKgfBlH"
      },
      "source": [
        "result = pd.json_normalize(data, 'counties', ['state', 'shortname',\n",
        "                                           ['info', 'governor']])\n",
        "# result = pd.json_normalize(data)"
      ],
      "execution_count": 115,
      "outputs": []
    },
    {
      "cell_type": "code",
      "metadata": {
        "colab": {
          "base_uri": "https://localhost:8080/",
          "height": 76
        },
        "id": "W7zZS_thfGUP",
        "outputId": "b8f9ca8d-f3a9-4c11-9384-7e809c8d6061"
      },
      "source": [
        "result\n",
        "# result[['etlType']]\n",
        "# result[['etlType', 'duration']]\n"
      ],
      "execution_count": 116,
      "outputs": [
        {
          "output_type": "execute_result",
          "data": {
            "text/html": [
              "<div>\n",
              "<style scoped>\n",
              "    .dataframe tbody tr th:only-of-type {\n",
              "        vertical-align: middle;\n",
              "    }\n",
              "\n",
              "    .dataframe tbody tr th {\n",
              "        vertical-align: top;\n",
              "    }\n",
              "\n",
              "    .dataframe thead th {\n",
              "        text-align: right;\n",
              "    }\n",
              "</style>\n",
              "<table border=\"1\" class=\"dataframe\">\n",
              "  <thead>\n",
              "    <tr style=\"text-align: right;\">\n",
              "      <th></th>\n",
              "      <th>destination_addresses</th>\n",
              "      <th>origin_addresses</th>\n",
              "      <th>rows</th>\n",
              "      <th>status</th>\n",
              "    </tr>\n",
              "  </thead>\n",
              "  <tbody>\n",
              "    <tr>\n",
              "      <th>0</th>\n",
              "      <td>[Philadelphia, PA, USA]</td>\n",
              "      <td>[New York, NY, USA]</td>\n",
              "      <td>[{'elements': [{'distance': {'text': '94.6 mi'...</td>\n",
              "      <td>OK</td>\n",
              "    </tr>\n",
              "  </tbody>\n",
              "</table>\n",
              "</div>"
            ],
            "text/plain": [
              "     destination_addresses  ... status\n",
              "0  [Philadelphia, PA, USA]  ...     OK\n",
              "\n",
              "[1 rows x 4 columns]"
            ]
          },
          "metadata": {
            "tags": []
          },
          "execution_count": 116
        }
      ]
    },
    {
      "cell_type": "code",
      "metadata": {
        "id": "X0JfqiJsfPRp"
      },
      "source": [
        "result = pd.json_normalize(\n",
        "    data\n",
        "    ,\n",
        "    record_path =['rows','elements']\n",
        "    , \n",
        "    meta=['destination_addresses', 'origin_addresses','status'],\n",
        "    record_prefix='_'\n",
        ")"
      ],
      "execution_count": 154,
      "outputs": []
    },
    {
      "cell_type": "code",
      "metadata": {
        "colab": {
          "base_uri": "https://localhost:8080/",
          "height": 105
        },
        "id": "M_wlZC_yzj_Q",
        "outputId": "c0f465f2-fed8-4259-ce70-fa4e8f40b569"
      },
      "source": [
        "result\n",
        "# result[['duration.value']]"
      ],
      "execution_count": 155,
      "outputs": [
        {
          "output_type": "execute_result",
          "data": {
            "text/html": [
              "<div>\n",
              "<style scoped>\n",
              "    .dataframe tbody tr th:only-of-type {\n",
              "        vertical-align: middle;\n",
              "    }\n",
              "\n",
              "    .dataframe tbody tr th {\n",
              "        vertical-align: top;\n",
              "    }\n",
              "\n",
              "    .dataframe thead th {\n",
              "        text-align: right;\n",
              "    }\n",
              "</style>\n",
              "<table border=\"1\" class=\"dataframe\">\n",
              "  <thead>\n",
              "    <tr style=\"text-align: right;\">\n",
              "      <th></th>\n",
              "      <th>_status</th>\n",
              "      <th>_distance.text</th>\n",
              "      <th>_distance.value</th>\n",
              "      <th>_duration.text</th>\n",
              "      <th>_duration.value</th>\n",
              "      <th>destination_addresses</th>\n",
              "      <th>origin_addresses</th>\n",
              "      <th>status</th>\n",
              "    </tr>\n",
              "  </thead>\n",
              "  <tbody>\n",
              "    <tr>\n",
              "      <th>0</th>\n",
              "      <td>OK</td>\n",
              "      <td>94.6 mi</td>\n",
              "      <td>152193</td>\n",
              "      <td>1 hour 44 mins</td>\n",
              "      <td>6227</td>\n",
              "      <td>Philadelphia, PA, USA</td>\n",
              "      <td>New York, NY, USA</td>\n",
              "      <td>OK</td>\n",
              "    </tr>\n",
              "    <tr>\n",
              "      <th>1</th>\n",
              "      <td>OK</td>\n",
              "      <td>94.6 mi</td>\n",
              "      <td>152193</td>\n",
              "      <td>1 hour 44 mins</td>\n",
              "      <td>6227</td>\n",
              "      <td>Philadelphia, PA, USA</td>\n",
              "      <td>New York, NY, USA</td>\n",
              "      <td>NOK</td>\n",
              "    </tr>\n",
              "  </tbody>\n",
              "</table>\n",
              "</div>"
            ],
            "text/plain": [
              "  _status _distance.text  ...   origin_addresses status\n",
              "0      OK        94.6 mi  ...  New York, NY, USA     OK\n",
              "1      OK        94.6 mi  ...  New York, NY, USA    NOK\n",
              "\n",
              "[2 rows x 8 columns]"
            ]
          },
          "metadata": {
            "tags": []
          },
          "execution_count": 155
        }
      ]
    },
    {
      "cell_type": "code",
      "metadata": {
        "id": "F3mvygqBzyvm"
      },
      "source": [
        ""
      ],
      "execution_count": null,
      "outputs": []
    },
    {
      "cell_type": "code",
      "metadata": {
        "colab": {
          "base_uri": "https://localhost:8080/"
        },
        "id": "qtlM1AaC6aTJ",
        "outputId": "4694642b-1535-46fc-a60f-83cba6d46d34"
      },
      "source": [
        "pip install requests"
      ],
      "execution_count": 156,
      "outputs": [
        {
          "output_type": "stream",
          "text": [
            "Requirement already satisfied: requests in /usr/local/lib/python3.7/dist-packages (2.23.0)\n",
            "Requirement already satisfied: urllib3!=1.25.0,!=1.25.1,<1.26,>=1.21.1 in /usr/local/lib/python3.7/dist-packages (from requests) (1.24.3)\n",
            "Requirement already satisfied: idna<3,>=2.5 in /usr/local/lib/python3.7/dist-packages (from requests) (2.10)\n",
            "Requirement already satisfied: chardet<4,>=3.0.2 in /usr/local/lib/python3.7/dist-packages (from requests) (3.0.4)\n",
            "Requirement already satisfied: certifi>=2017.4.17 in /usr/local/lib/python3.7/dist-packages (from requests) (2020.12.5)\n"
          ],
          "name": "stdout"
        }
      ]
    },
    {
      "cell_type": "code",
      "metadata": {
        "id": "Rnm-8nwz6bMx"
      },
      "source": [
        "import json\n",
        "import requests\n",
        "response = requests.get(\"https://jsonplaceholder.typicode.com/todos\")\n",
        "data = json.loads(response.text)"
      ],
      "execution_count": 172,
      "outputs": []
    },
    {
      "cell_type": "code",
      "metadata": {
        "id": "9BxP8Kl36ewl"
      },
      "source": [
        "result = pd.json_normalize(\n",
        "    data\n",
        "    # ,\n",
        "    # record_path =['rows','elements'], \n",
        "    # meta=['destination_addresses', 'origin_addresses','status'],\n",
        "    # record_prefix='_'\n",
        ")"
      ],
      "execution_count": 173,
      "outputs": []
    },
    {
      "cell_type": "code",
      "metadata": {
        "colab": {
          "base_uri": "https://localhost:8080/",
          "height": 391
        },
        "id": "Ur_UCuuC638O",
        "outputId": "318f4f41-bc80-43e7-b3e3-0164cfa5192c"
      },
      "source": [
        "result"
      ],
      "execution_count": 174,
      "outputs": [
        {
          "output_type": "execute_result",
          "data": {
            "text/html": [
              "<div>\n",
              "<style scoped>\n",
              "    .dataframe tbody tr th:only-of-type {\n",
              "        vertical-align: middle;\n",
              "    }\n",
              "\n",
              "    .dataframe tbody tr th {\n",
              "        vertical-align: top;\n",
              "    }\n",
              "\n",
              "    .dataframe thead th {\n",
              "        text-align: right;\n",
              "    }\n",
              "</style>\n",
              "<table border=\"1\" class=\"dataframe\">\n",
              "  <thead>\n",
              "    <tr style=\"text-align: right;\">\n",
              "      <th></th>\n",
              "      <th>userId</th>\n",
              "      <th>id</th>\n",
              "      <th>title</th>\n",
              "      <th>completed</th>\n",
              "    </tr>\n",
              "  </thead>\n",
              "  <tbody>\n",
              "    <tr>\n",
              "      <th>0</th>\n",
              "      <td>1</td>\n",
              "      <td>1</td>\n",
              "      <td>delectus aut autem</td>\n",
              "      <td>False</td>\n",
              "    </tr>\n",
              "    <tr>\n",
              "      <th>1</th>\n",
              "      <td>1</td>\n",
              "      <td>2</td>\n",
              "      <td>quis ut nam facilis et officia qui</td>\n",
              "      <td>False</td>\n",
              "    </tr>\n",
              "    <tr>\n",
              "      <th>2</th>\n",
              "      <td>1</td>\n",
              "      <td>3</td>\n",
              "      <td>fugiat veniam minus</td>\n",
              "      <td>False</td>\n",
              "    </tr>\n",
              "    <tr>\n",
              "      <th>3</th>\n",
              "      <td>1</td>\n",
              "      <td>4</td>\n",
              "      <td>et porro tempora</td>\n",
              "      <td>True</td>\n",
              "    </tr>\n",
              "    <tr>\n",
              "      <th>4</th>\n",
              "      <td>1</td>\n",
              "      <td>5</td>\n",
              "      <td>laboriosam mollitia et enim quasi adipisci qui...</td>\n",
              "      <td>False</td>\n",
              "    </tr>\n",
              "    <tr>\n",
              "      <th>...</th>\n",
              "      <td>...</td>\n",
              "      <td>...</td>\n",
              "      <td>...</td>\n",
              "      <td>...</td>\n",
              "    </tr>\n",
              "    <tr>\n",
              "      <th>195</th>\n",
              "      <td>10</td>\n",
              "      <td>196</td>\n",
              "      <td>consequuntur aut ut fugit similique</td>\n",
              "      <td>True</td>\n",
              "    </tr>\n",
              "    <tr>\n",
              "      <th>196</th>\n",
              "      <td>10</td>\n",
              "      <td>197</td>\n",
              "      <td>dignissimos quo nobis earum saepe</td>\n",
              "      <td>True</td>\n",
              "    </tr>\n",
              "    <tr>\n",
              "      <th>197</th>\n",
              "      <td>10</td>\n",
              "      <td>198</td>\n",
              "      <td>quis eius est sint explicabo</td>\n",
              "      <td>True</td>\n",
              "    </tr>\n",
              "    <tr>\n",
              "      <th>198</th>\n",
              "      <td>10</td>\n",
              "      <td>199</td>\n",
              "      <td>numquam repellendus a magnam</td>\n",
              "      <td>True</td>\n",
              "    </tr>\n",
              "    <tr>\n",
              "      <th>199</th>\n",
              "      <td>10</td>\n",
              "      <td>200</td>\n",
              "      <td>ipsam aperiam voluptates qui</td>\n",
              "      <td>False</td>\n",
              "    </tr>\n",
              "  </tbody>\n",
              "</table>\n",
              "<p>200 rows × 4 columns</p>\n",
              "</div>"
            ],
            "text/plain": [
              "     userId   id                                              title  completed\n",
              "0         1    1                                 delectus aut autem      False\n",
              "1         1    2                 quis ut nam facilis et officia qui      False\n",
              "2         1    3                                fugiat veniam minus      False\n",
              "3         1    4                                   et porro tempora       True\n",
              "4         1    5  laboriosam mollitia et enim quasi adipisci qui...      False\n",
              "..      ...  ...                                                ...        ...\n",
              "195      10  196                consequuntur aut ut fugit similique       True\n",
              "196      10  197                  dignissimos quo nobis earum saepe       True\n",
              "197      10  198                       quis eius est sint explicabo       True\n",
              "198      10  199                       numquam repellendus a magnam       True\n",
              "199      10  200                       ipsam aperiam voluptates qui      False\n",
              "\n",
              "[200 rows x 4 columns]"
            ]
          },
          "metadata": {
            "tags": []
          },
          "execution_count": 174
        }
      ]
    },
    {
      "cell_type": "code",
      "metadata": {
        "id": "Mmu-qp-w65Yt"
      },
      "source": [
        ""
      ],
      "execution_count": null,
      "outputs": []
    }
  ]
}