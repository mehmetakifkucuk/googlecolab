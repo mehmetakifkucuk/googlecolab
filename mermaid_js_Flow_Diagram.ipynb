{
  "nbformat": 4,
  "nbformat_minor": 0,
  "metadata": {
    "colab": {
      "name": "mermaid-js Flow Diagram.ipynb",
      "provenance": [],
      "authorship_tag": "ABX9TyPILSU5hMngCrieUOO6+o10",
      "include_colab_link": true
    },
    "kernelspec": {
      "name": "python3",
      "display_name": "Python 3"
    },
    "language_info": {
      "name": "python"
    }
  },
  "cells": [
    {
      "cell_type": "markdown",
      "metadata": {
        "id": "view-in-github",
        "colab_type": "text"
      },
      "source": [
        "<a href=\"https://colab.research.google.com/github/mehmetakifkucuk/googlecolab/blob/main/mermaid_js_Flow_Diagram.ipynb\" target=\"_parent\"><img src=\"https://colab.research.google.com/assets/colab-badge.svg\" alt=\"Open In Colab\"/></a>"
      ]
    },
    {
      "cell_type": "markdown",
      "metadata": {
        "id": "zmX23bnULiq9"
      },
      "source": [
        "# Google Sheets Create and Read"
      ]
    },
    {
      "cell_type": "code",
      "metadata": {
        "colab": {
          "base_uri": "https://localhost:8080/"
        },
        "cellView": "form",
        "id": "4pI_aE2kLpXS",
        "outputId": "c0a9b032-d7f4-4c9b-db88-a2322b1ad5b5"
      },
      "source": [
        "#@title Create\n",
        "from google.colab import auth\n",
        "auth.authenticate_user()\n",
        "\n",
        "import gspread\n",
        "from oauth2client.client import GoogleCredentials\n",
        "\n",
        "gc = gspread.authorize(GoogleCredentials.get_application_default())\n",
        "\n",
        "sh = gc.create('A new spreadsheet')\n",
        "\n",
        "# Open our new sheet and add some data.\n",
        "worksheet = gc.open('A new spreadsheet').sheet1\n",
        "\n",
        "cell_list = worksheet.range('A1:C2')\n",
        "\n",
        "import random\n",
        "for cell in cell_list:\n",
        "  cell.value = random.randint(1, 10)\n",
        "\n",
        "worksheet.update_cells(cell_list)\n",
        "# Go to https://sheets.google.com to see your new spreadsheet."
      ],
      "execution_count": 24,
      "outputs": [
        {
          "output_type": "execute_result",
          "data": {
            "text/plain": [
              "{'spreadsheetId': '1zAsN2pj-5ST_78HYIrsMK7f5IxrsbeIIFM_GxDhQy4k',\n",
              " 'updatedCells': 6,\n",
              " 'updatedColumns': 3,\n",
              " 'updatedRange': 'Sayfa1!A1:C2',\n",
              " 'updatedRows': 2}"
            ]
          },
          "metadata": {
            "tags": []
          },
          "execution_count": 24
        }
      ]
    },
    {
      "cell_type": "code",
      "metadata": {
        "cellView": "form",
        "colab": {
          "base_uri": "https://localhost:8080/",
          "height": 105
        },
        "id": "0PClxRCIL0sJ",
        "outputId": "406287ea-c895-4ee0-a3ad-5cc7cbf5356e"
      },
      "source": [
        "#@title Read\n",
        "from google.colab import auth\n",
        "auth.authenticate_user()\n",
        "\n",
        "import gspread\n",
        "from oauth2client.client import GoogleCredentials\n",
        "\n",
        "gc = gspread.authorize(GoogleCredentials.get_application_default())\n",
        "\n",
        "# worksheet = gc.open('A new spreadsheet').sheet1\n",
        "wb = gc.open_by_url('https://docs.google.com/spreadsheets/d/1-StACHtxNqbERtwBtgVxLjYAQDHczxc7cyMV8AdPtw0/edit#gid=2018370990')\n",
        "sheet = wb.worksheet('Dependencies')\n",
        "data = sheet.get_all_values()\n",
        "# get_all_values gives a list of rows.\n",
        "# rows = worksheet.get_all_values()\n",
        "# print(rows)\n",
        "\n",
        "# Convert to a DataFrame and render.\n",
        "import pandas as pd\n",
        "# pd.DataFrame.from_records(rows)\n",
        "df = pd.DataFrame(data)\n",
        "df.columns = df.iloc[0]\n",
        "df = df.iloc[1:]\n",
        "# df[['mermaid.js Code','mermaid.js Format']]\n",
        "code = df['mermaid.js Code']\n",
        "format = df['mermaid.js Format']\n",
        "data = code.to_string(index=False) + '\\n' + format.to_string(index=False)\n",
        "data"
      ],
      "execution_count": 25,
      "outputs": [
        {
          "output_type": "execute_result",
          "data": {
            "application/vnd.google.colaboratory.intrinsic+json": {
              "type": "string"
            },
            "text/plain": [
              "' X.01[N/A - No Pre-requisite]-->A.01[Design - M...\\n X.01[N/A - No Pre-requisite]-->A.02[Design - M...\\n X.01[N/A - No Pre-requisite]-->A.03[Design - D...\\n A.01[Design - Mobile App]-->B.01[Development -...\\n A.02[Design - Mobile Web]-->B.02[Development -...\\n A.03[Design - Desktop Web]-->B.03[Development ...\\n B.01[Development - Mobile App]-->C.01[Test - M...\\n B.02[Development - Mobile Web]-->C.02[Test - M...\\n B.03[Development - Desktop Web]-->C.03[Test - ...\\n X.01[N/A - No Pre-requisite]-->D.01[Blog - WP ...\\n D.01[Blog - WP Setup]-->D.02[Blog - Design / T...\\n D.02[Blog - Design / Template Check]-->D.03[Bl...\\n D.02[Blog - Design / Template Check]-->D.04[Bl...\\n D.01[Blog - WP Setup]-->D.05[Blog - Deploy for...\\n D.02[Blog - Design / Template Check]-->D.05[Bl...\\n D.03[Blog - Plugin / Template Setup]-->D.05[Bl...\\n D.01[Blog - WP Setup]-->E.01[Blog Content - Po...\\n D.03[Blog - Plugin / Template Setup]-->E.02[Bl...\\n D.03[Blog - Plugin / Template Setup]-->E.03[Bl...\\n D.03[Blog - Plugin / Template Setup]-->E.04[Bl...\\n D.03[Blog - Plugin / Template Setup]-->E.05[Bl...\\n D.01[Blog - WP Setup]-->E.06[Blog Content - Po...\\n D.03[Blog - Plugin / Template Setup]-->E.07[Bl...\\n D.03[Blog - Plugin / Template Setup]-->E.08[Bl...\\n D.03[Blog - Plugin / Template Setup]-->E.09[Bl...\\n D.03[Blog - Plugin / Template Setup]-->E.10[Bl...\\n X.01[N/A - No Pre-requisite]-->F.01[App Conten...\\n B.01[Development - Mobile App]-->F.02[App Cont...\\n B.01[Development - Mobile App]-->F.03[App Cont...\\n X.01[N/A - No Pre-requisite]-->G.01[Investor R...\\n X.01[N/A - No Pre-requisite]-->G.02[Investor R...\\n A.01[Design - Mobile App]-->G.03[Investor Rela...\\n D.01[Blog - WP Setup]-->H.01[Support / Chat - ...\\n D.01[Blog - WP Setup]-->H.02[Support / Chat - ...\\n X.01[N/A - No Pre-requisite]-->H.03[Support / ...\\n X.01[N/A - No Pre-requisite]-->H.04[Support / ...\\n J.02[Legal Establishments - Company Establishm...\\n I.01[Payment Systems - US Bank Account]-->I.02...\\n I.02[Payment Systems - Stripe Agreement]-->I.0...\\n X.01[N/A - No Pre-requisite]-->J.01[Legal Esta...\\n X.01[N/A - No Pre-requisite]-->J.02[Legal Esta...\\n X.01[N/A - No Pre-requisite]-->K.01[Marketing ...\\n X.01[N/A - No Pre-requisite]-->K.02[Marketing ...\\n X.01[N/A - No Pre-requisite]-->K.03[Marketing ...\\n X.01[N/A - No Pre-requisite]-->L.01[People - H...\\n X.01[N/A - No Pre-requisite]-->L.02[People - S...\\n J.01[Legal Establishments - Company Establishm...\\n J.02[Legal Establishments - Company Establishm...\\n                                                  \\n C.01[Test - Mobile App]-->Z.01[GO LIVE - GO LIVE]\\n D.05[Blog - Deploy for Live / SSL, etc.]-->Z.0...\\n E.01[Blog Content - Post Content -TR-]-->Z.01[...\\n E.02[Blog Content - Infographic Content -TR-]-...\\n E.05[Blog Content - Legal Content -TR-]-->Z.01...\\n H.01[Support / Chat - Support Center System Se...\\n H.04[Support / Chat - Chat Setup]-->Z.01[GO LI...\\n I.03[Payment Systems - Technical Setup]-->Z.01...\\n J.01[Legal Establishments - Company Establishm...\\n F.01[App Content - Suggested Items]-->Z.01[GO ...\\n F.03[App Content - Initial Items to Enter]-->Z...\\n  style A.01 stroke:green, stroke-width:5px\\n  style A.02 stroke:green, stroke-width:5px\\n  style A.03 stroke:green, stroke-width:5px\\n  style B.01 stroke:green, stroke-width:5px\\n style B.02 stroke:yellow, stroke-width:5px\\n style B.03 stroke:yellow, stroke-width:5px\\n    style C.01 stroke:red, stroke-width:5px\\n    style C.02 stroke:red, stroke-width:5px\\n    style C.03 stroke:red, stroke-width:5px\\n  style D.01 stroke:green, stroke-width:5px\\n  style D.02 stroke:green, stroke-width:5px\\n  style D.03 stroke:green, stroke-width:5px\\n    style D.04 stroke:red, stroke-width:5px\\n    style D.05 stroke:red, stroke-width:5px\\n    style D.05 stroke:red, stroke-width:5px\\n    style D.05 stroke:red, stroke-width:5px\\n style E.01 stroke:yellow, stroke-width:5px\\n   style E.02 stroke:pink, stroke-width:5px\\n   style E.03 stroke:pink, stroke-width:5px\\n    style E.04 stroke:red, stroke-width:5px\\n  style E.05 stroke:green, stroke-width:5px\\n    style E.06 stroke:red, stroke-width:5px\\n    style E.07 stroke:red, stroke-width:5px\\n    style E.08 stroke:red, stroke-width:5px\\n    style E.09 stroke:red, stroke-width:5px\\n    style E.10 stroke:red, stroke-width:5px\\n    style F.01 stroke:red, stroke-width:5px\\n    style F.02 stroke:red, stroke-width:5px\\n    style F.03 stroke:red, stroke-width:5px\\n    style G.01 stroke:red, stroke-width:5px\\n    style G.02 stroke:red, stroke-width:5px\\n    style G.03 stroke:red, stroke-width:5px\\n style H.01 stroke:yellow, stroke-width:5px\\n    style H.02 stroke:red, stroke-width:5px\\n    style H.03 stroke:red, stroke-width:5px\\n    style H.04 stroke:red, stroke-width:5px\\n  style I.01 stroke:green, stroke-width:5px\\n  style I.02 stroke:green, stroke-width:5px\\n style I.03 stroke:yellow, stroke-width:5px\\n  style J.01 stroke:green, stroke-width:5px\\n  style J.02 stroke:green, stroke-width:5px\\n   style K.01 stroke:pink, stroke-width:5px\\n   style K.02 stroke:pink, stroke-width:5px\\n    style K.03 stroke:red, stroke-width:5px\\n    style L.01 stroke:red, stroke-width:5px\\n    style L.02 stroke:red, stroke-width:5px\\n    style M.01 stroke:red, stroke-width:5px\\n    style M.01 stroke:red, stroke-width:5px\\n  style X.01 stroke:green, stroke-width:5px\\n    style Z.01 stroke:red, stroke-width:5px\\n    style Z.01 stroke:red, stroke-width:5px\\n    style Z.01 stroke:red, stroke-width:5px\\n    style Z.01 stroke:red, stroke-width:5px\\n    style Z.01 stroke:red, stroke-width:5px\\n    style Z.01 stroke:red, stroke-width:5px\\n    style Z.01 stroke:red, stroke-width:5px\\n    style Z.01 stroke:red, stroke-width:5px\\n    style Z.01 stroke:red, stroke-width:5px\\n    style Z.01 stroke:red, stroke-width:5px\\n    style Z.01 stroke:red, stroke-width:5px'"
            ]
          },
          "metadata": {
            "tags": []
          },
          "execution_count": 25
        }
      ]
    },
    {
      "cell_type": "markdown",
      "metadata": {
        "id": "Y1IBzE2PLhPM"
      },
      "source": [
        "# Execute"
      ]
    },
    {
      "cell_type": "code",
      "metadata": {
        "cellView": "form",
        "id": "QNb2IhPECUkd"
      },
      "source": [
        "#@title Read from Google Sheets\n",
        "from google.colab import auth\n",
        "auth.authenticate_user()\n",
        "\n",
        "import gspread\n",
        "from oauth2client.client import GoogleCredentials\n",
        "\n",
        "gc = gspread.authorize(GoogleCredentials.get_application_default())\n",
        "\n",
        "# worksheet = gc.open('A new spreadsheet').sheet1\n",
        "wb = gc.open_by_url('https://docs.google.com/spreadsheets/d/1-StACHtxNqbERtwBtgVxLjYAQDHczxc7cyMV8AdPtw0/edit#gid=2018370990')\n",
        "sheet = wb.worksheet('Dependencies')\n",
        "data = sheet.get_all_values()\n",
        "# get_all_values gives a list of rows.\n",
        "# rows = worksheet.get_all_values()\n",
        "# print(rows)\n",
        "\n",
        "# Convert to a DataFrame and render.\n",
        "import pandas as pd\n",
        "# pd.DataFrame.from_records(rows)\n",
        "df = pd.DataFrame(data)\n",
        "df.columns = df.iloc[0]\n",
        "df = df.iloc[1:]\n",
        "# df[['mermaid.js Code','mermaid.js Format']]\n",
        "code = df['mermaid.js Code']\n",
        "format = df['mermaid.js Format']\n",
        "data = 'graph LR' + '\\n'+ code.to_string(index=False) + '\\n' + format.to_string(index=False)\n",
        "graph = data"
      ],
      "execution_count": 26,
      "outputs": []
    },
    {
      "cell_type": "code",
      "metadata": {
        "cellView": "form",
        "id": "qOQ5uml7KXlK"
      },
      "source": [
        "#@title Generate File Manually\n",
        "graph = \"\"\"\n",
        "graph LR\n",
        "X.01[N/A - No Pre-requisite]-->A.01[Design - Mobile App]\n",
        "X.01[N/A - No Pre-requisite]-->A.02[Design - Mobile Web]\n",
        "X.01[N/A - No Pre-requisite]-->A.03[Design - Desktop Web]\n",
        "A.01[Design - Mobile App]-->B.01[Development - Mobile App]\n",
        "A.02[Design - Mobile Web]-->B.02[Development - Mobile Web]\n",
        "A.03[Design - Desktop Web]-->B.03[Development - Desktop Web]\n",
        "B.01[Development - Mobile App]-->C.01[Test - Mobile App]\n",
        "B.02[Development - Mobile Web]-->C.02[Test - Mobile Web]\n",
        "B.03[Development - Desktop Web]-->C.03[Test - Desktop Web]\n",
        "X.01[N/A - No Pre-requisite]-->D.01[Blog - WP Setup]\n",
        "D.01[Blog - WP Setup]-->D.02[Blog - Design / Template Check]\n",
        "D.02[Blog - Design / Template Check]-->D.03[Blog - Plugin / Template Setup]\n",
        "D.02[Blog - Design / Template Check]-->D.04[Blog - Multilanguage]\n",
        "D.01[Blog - WP Setup]-->D.05[Blog - Deploy for Live / SSL, etc.]\n",
        "D.02[Blog - Design / Template Check]-->D.05[Blog - Deploy for Live / SSL, etc.]\n",
        "D.03[Blog - Plugin / Template Setup]-->D.05[Blog - Deploy for Live / SSL, etc.]\n",
        "D.01[Blog - WP Setup]-->E.01[Blog Content - Post Content -TR-]\n",
        "D.03[Blog - Plugin / Template Setup]-->E.02[Blog Content - Infographic Content -TR-]\n",
        "D.03[Blog - Plugin / Template Setup]-->E.03[Blog Content - Quiz Content -TR-]\n",
        "D.03[Blog - Plugin / Template Setup]-->E.04[Blog Content - Bar Chart Race -TR-]\n",
        "D.03[Blog - Plugin / Template Setup]-->E.05[Blog Content - Legal Content -TR-]\n",
        "D.01[Blog - WP Setup]-->E.06[Blog Content - Post Content -EN-]\n",
        "D.03[Blog - Plugin / Template Setup]-->E.07[Blog Content - Infographic Content -EN-]\n",
        "D.03[Blog - Plugin / Template Setup]-->E.08[Blog Content - Quiz Content -EN-]\n",
        "D.03[Blog - Plugin / Template Setup]-->E.09[Blog Content - Bar Chart Race -EN-]\n",
        "D.03[Blog - Plugin / Template Setup]-->E.10[Blog Content - Legal Content -EN-]\n",
        "X.01[N/A - No Pre-requisite]-->F.01[App Content - Suggested Items]\n",
        "B.01[Development - Mobile App]-->F.02[App Content - Multilanguage]\n",
        "B.01[Development - Mobile App]-->F.03[App Content - Initial Items to Enter]\n",
        "X.01[N/A - No Pre-requisite]-->G.01[Investor Relations - Collecting Investor Information]\n",
        "X.01[N/A - No Pre-requisite]-->G.02[Investor Relations - Pitch Calendar]\n",
        "A.01[Design - Mobile App]-->G.03[Investor Relations - MVP Showcase]\n",
        "D.01[Blog - WP Setup]-->H.01[Support / Chat - Support Center System Setup]\n",
        "D.01[Blog - WP Setup]-->H.02[Support / Chat - Support Multilanguage]\n",
        "X.01[N/A - No Pre-requisite]-->H.03[Support / Chat - Operator Assignment]\n",
        "X.01[N/A - No Pre-requisite]-->H.04[Support / Chat - Chat Setup]\n",
        "J.02[Legal Establishments - Company Establishment in US]-->I.01[Payment Systems - US Bank Account]\n",
        "I.01[Payment Systems - US Bank Account]-->I.02[Payment Systems - Stripe Agreement]\n",
        "I.02[Payment Systems - Stripe Agreement]-->I.03[Payment Systems - Technical Setup]\n",
        "X.01[N/A - No Pre-requisite]-->J.01[Legal Establishments - Company Establishment in Turkey]\n",
        "X.01[N/A - No Pre-requisite]-->J.02[Legal Establishments - Company Establishment in US]\n",
        "X.01[N/A - No Pre-requisite]-->K.01[Marketing - Paid Marketing Plan for Shopper Acq.]\n",
        "X.01[N/A - No Pre-requisite]-->K.02[Marketing - Paid Marketing Plan for Traveler Acq.]\n",
        "X.01[N/A - No Pre-requisite]-->K.03[Marketing - Unpaid Marketing Plan -SEO-]\n",
        "X.01[N/A - No Pre-requisite]-->L.01[People - Hiring]\n",
        "X.01[N/A - No Pre-requisite]-->L.02[People - Salary Payment]\n",
        "J.01[Legal Establishments - Company Establishment in Turkey]-->M.01[Legal Responsibilities - Tax Payment]\n",
        "J.02[Legal Establishments - Company Establishment in US]-->M.01[Legal Responsibilities - Tax Payment]\n",
        "\n",
        "C.01[Test - Mobile App]-->Z.01[GO LIVE - GO LIVE]\n",
        "D.05[Blog - Deploy for Live / SSL, etc.]-->Z.01[GO LIVE - GO LIVE]\n",
        "E.01[Blog Content - Post Content -TR-]-->Z.01[GO LIVE - GO LIVE]\n",
        "E.02[Blog Content - Infographic Content -TR-]-->Z.01[GO LIVE - GO LIVE]\n",
        "E.05[Blog Content - Legal Content -TR-]-->Z.01[GO LIVE - GO LIVE]\n",
        "H.01[Support / Chat - Support Center System Setup]-->Z.01[GO LIVE - GO LIVE]\n",
        "H.04[Support / Chat - Chat Setup]-->Z.01[GO LIVE - GO LIVE]\n",
        "I.03[Payment Systems - Technical Setup]-->Z.01[GO LIVE - GO LIVE]\n",
        "J.01[Legal Establishments - Company Establishment in Turkey]-->Z.01[GO LIVE - GO LIVE]\n",
        "F.01[App Content - Suggested Items]-->Z.01[GO LIVE - GO LIVE]\n",
        "F.03[App Content - Initial Items to Enter]-->Z.01[GO LIVE - GO LIVE]\n",
        "style A.01 stroke:green, stroke-width:5px\n",
        "style A.02 stroke:green, stroke-width:5px\n",
        "style A.03 stroke:green, stroke-width:5px\n",
        "style B.01 stroke:green, stroke-width:5px\n",
        "style B.02 stroke:yellow, stroke-width:5px\n",
        "style B.03 stroke:yellow, stroke-width:5px\n",
        "style C.01 stroke:red, stroke-width:5px\n",
        "style C.02 stroke:red, stroke-width:5px\n",
        "style C.03 stroke:red, stroke-width:5px\n",
        "style D.01 stroke:green, stroke-width:5px\n",
        "style D.02 stroke:green, stroke-width:5px\n",
        "style D.03 stroke:green, stroke-width:5px\n",
        "style D.04 stroke:red, stroke-width:5px\n",
        "style D.05 stroke:red, stroke-width:5px\n",
        "style D.05 stroke:red, stroke-width:5px\n",
        "style D.05 stroke:red, stroke-width:5px\n",
        "style E.01 stroke:yellow, stroke-width:5px\n",
        "style E.02 stroke:pink, stroke-width:5px\n",
        "style E.03 stroke:pink, stroke-width:5px\n",
        "style E.04 stroke:red, stroke-width:5px\n",
        "style E.05 stroke:green, stroke-width:5px\n",
        "style E.06 stroke:red, stroke-width:5px\n",
        "style E.07 stroke:red, stroke-width:5px\n",
        "style E.08 stroke:red, stroke-width:5px\n",
        "style E.09 stroke:red, stroke-width:5px\n",
        "style E.10 stroke:red, stroke-width:5px\n",
        "style F.01 stroke:red, stroke-width:5px\n",
        "style F.02 stroke:red, stroke-width:5px\n",
        "style F.03 stroke:red, stroke-width:5px\n",
        "style G.01 stroke:red, stroke-width:5px\n",
        "style G.02 stroke:red, stroke-width:5px\n",
        "style G.03 stroke:red, stroke-width:5px\n",
        "style H.01 stroke:yellow, stroke-width:5px\n",
        "style H.02 stroke:red, stroke-width:5px\n",
        "style H.03 stroke:red, stroke-width:5px\n",
        "style H.04 stroke:red, stroke-width:5px\n",
        "style I.01 stroke:green, stroke-width:5px\n",
        "style I.02 stroke:green, stroke-width:5px\n",
        "style I.03 stroke:yellow, stroke-width:5px\n",
        "style J.01 stroke:green, stroke-width:5px\n",
        "style J.02 stroke:green, stroke-width:5px\n",
        "style K.01 stroke:pink, stroke-width:5px\n",
        "style K.02 stroke:pink, stroke-width:5px\n",
        "style K.03 stroke:red, stroke-width:5px\n",
        "style L.01 stroke:red, stroke-width:5px\n",
        "style L.02 stroke:red, stroke-width:5px\n",
        "style M.01 stroke:red, stroke-width:5px\n",
        "style M.01 stroke:red, stroke-width:5px\n",
        "style X.01 stroke:green, stroke-width:5px\n",
        "style Z.01 stroke:red, stroke-width:5px\n",
        "style Z.01 stroke:red, stroke-width:5px\n",
        "style Z.01 stroke:red, stroke-width:5px\n",
        "style Z.01 stroke:red, stroke-width:5px\n",
        "style Z.01 stroke:red, stroke-width:5px\n",
        "style Z.01 stroke:red, stroke-width:5px\n",
        "style Z.01 stroke:red, stroke-width:5px\n",
        "style Z.01 stroke:red, stroke-width:5px\n",
        "style Z.01 stroke:red, stroke-width:5px\n",
        "style Z.01 stroke:red, stroke-width:5px\n",
        "style Z.01 stroke:red, stroke-width:5px\n",
        "\"\"\""
      ],
      "execution_count": 27,
      "outputs": []
    },
    {
      "cell_type": "code",
      "metadata": {
        "colab": {
          "base_uri": "https://localhost:8080/",
          "height": 286
        },
        "id": "Z_0ODsv9COtK",
        "outputId": "acba9a2a-4394-47dc-88ad-f69804be63dc"
      },
      "source": [
        "import base64\n",
        "\n",
        "graphbytes = graph.encode(\"ascii\")\n",
        "\n",
        "base64_bytes = base64.b64encode(graphbytes)\n",
        "base64_string = base64_bytes.decode(\"ascii\")\n",
        "\n",
        "import requests, io\n",
        "from PIL import Image\n",
        "import matplotlib.pyplot as plt\n",
        "\n",
        "img = Image.open(io.BytesIO(requests.get('https://mermaid.ink/img/' + base64_string).content))\n",
        "plt.imshow(img)"
      ],
      "execution_count": 28,
      "outputs": [
        {
          "output_type": "execute_result",
          "data": {
            "text/plain": [
              "<matplotlib.image.AxesImage at 0x7f2b6d0b27d0>"
            ]
          },
          "metadata": {
            "tags": []
          },
          "execution_count": 28
        },
        {
          "output_type": "display_data",
          "data": {
            "image/png": "[encoded data removed]",
            "text/plain": [
              "<Figure size 432x288 with 1 Axes>"
            ]
          },
          "metadata": {
            "tags": [],
            "needs_background": "light"
          }
        }
      ]
    },
    {
      "cell_type": "code",
      "metadata": {
        "colab": {
          "base_uri": "https://localhost:8080/",
          "height": 105
        },
        "id": "YA57U3cIC2R8",
        "outputId": "80a86620-6a58-40b6-9f20-49aea7edf125"
      },
      "source": [
        "graph"
      ],
      "execution_count": 11,
      "outputs": [
        {
          "output_type": "execute_result",
          "data": {
            "application/vnd.google.colaboratory.intrinsic+json": {
              "type": "string"
            },
            "text/plain": [
              "'\\nX.01[N/A - No Pre-requisite]-->A.01[Design - Mobile App]\\nX.01[N/A - No Pre-requisite]-->A.02[Design - Mobile Web]\\nX.01[N/A - No Pre-requisite]-->A.03[Design - Desktop Web]\\nA.01[Design - Mobile App]-->B.01[Development - Mobile App]\\nA.02[Design - Mobile Web]-->B.02[Development - Mobile Web]\\nA.03[Design - Desktop Web]-->B.03[Development - Desktop Web]\\nB.01[Development - Mobile App]-->C.01[Test - Mobile App]\\nB.02[Development - Mobile Web]-->C.02[Test - Mobile Web]\\nB.03[Development - Desktop Web]-->C.03[Test - Desktop Web]\\nX.01[N/A - No Pre-requisite]-->D.01[Blog - WP Setup]\\nD.01[Blog - WP Setup]-->D.02[Blog - Design / Template Check]\\nD.02[Blog - Design / Template Check]-->D.03[Blog - Plugin / Template Setup]\\nD.02[Blog - Design / Template Check]-->D.04[Blog - Multilanguage]\\nD.01[Blog - WP Setup]-->D.05[Blog - Deploy for Live / SSL, etc.]\\nD.02[Blog - Design / Template Check]-->D.05[Blog - Deploy for Live / SSL, etc.]\\nD.03[Blog - Plugin / Template Setup]-->D.05[Blog - Deploy for Live / SSL, etc.]\\nD.01[Blog - WP Setup]-->E.01[Blog Content - Post Content -TR-]\\nD.03[Blog - Plugin / Template Setup]-->E.02[Blog Content - Infographic Content -TR-]\\nD.03[Blog - Plugin / Template Setup]-->E.03[Blog Content - Quiz Content -TR-]\\nD.03[Blog - Plugin / Template Setup]-->E.04[Blog Content - Bar Chart Race -TR-]\\nD.03[Blog - Plugin / Template Setup]-->E.05[Blog Content - Legal Content -TR-]\\nD.01[Blog - WP Setup]-->E.06[Blog Content - Post Content -EN-]\\nD.03[Blog - Plugin / Template Setup]-->E.07[Blog Content - Infographic Content -EN-]\\nD.03[Blog - Plugin / Template Setup]-->E.08[Blog Content - Quiz Content -EN-]\\nD.03[Blog - Plugin / Template Setup]-->E.09[Blog Content - Bar Chart Race -EN-]\\nD.03[Blog - Plugin / Template Setup]-->E.10[Blog Content - Legal Content -EN-]\\nX.01[N/A - No Pre-requisite]-->F.01[App Content - Suggested Items]\\nB.01[Development - Mobile App]-->F.02[App Content - Multilanguage]\\nB.01[Development - Mobile App]-->F.03[App Content - Initial Items to Enter]\\nX.01[N/A - No Pre-requisite]-->G.01[Investor Relations - Collecting Investor Information]\\nX.01[N/A - No Pre-requisite]-->G.02[Investor Relations - Pitch Calendar]\\nA.01[Design - Mobile App]-->G.03[Investor Relations - MVP Showcase]\\nD.01[Blog - WP Setup]-->H.01[Support / Chat - Support Center System Setup]\\nD.01[Blog - WP Setup]-->H.02[Support / Chat - Support Multilanguage]\\nX.01[N/A - No Pre-requisite]-->H.03[Support / Chat - Operator Assignment]\\nX.01[N/A - No Pre-requisite]-->H.04[Support / Chat - Chat Setup]\\nJ.02[Legal Establishments - Company Establishment in US]-->I.01[Payment Systems - US Bank Account]\\nI.01[Payment Systems - US Bank Account]-->I.02[Payment Systems - Stripe Agreement]\\nI.02[Payment Systems - Stripe Agreement]-->I.03[Payment Systems - Technical Setup]\\nX.01[N/A - No Pre-requisite]-->J.01[Legal Establishments - Company Establishment in Turkey]\\nX.01[N/A - No Pre-requisite]-->J.02[Legal Establishments - Company Establishment in US]\\nX.01[N/A - No Pre-requisite]-->K.01[Marketing - Paid Marketing Plan for Shopper Acq.]\\nX.01[N/A - No Pre-requisite]-->K.02[Marketing - Paid Marketing Plan for Traveler Acq.]\\nX.01[N/A - No Pre-requisite]-->K.03[Marketing - Unpaid Marketing Plan -SEO-]\\nX.01[N/A - No Pre-requisite]-->L.01[People - Hiring]\\nX.01[N/A - No Pre-requisite]-->L.02[People - Salary Payment]\\nJ.01[Legal Establishments - Company Establishment in Turkey]-->M.01[Legal Responsibilities - Tax Payment]\\nJ.02[Legal Establishments - Company Establishment in US]-->M.01[Legal Responsibilities - Tax Payment]\\n\\nC.01[Test - Mobile App]-->Z.01[GO LIVE - GO LIVE]\\nD.05[Blog - Deploy for Live / SSL, etc.]-->Z.01[GO LIVE - GO LIVE]\\nE.01[Blog Content - Post Content -TR-]-->Z.01[GO LIVE - GO LIVE]\\nE.02[Blog Content - Infographic Content -TR-]-->Z.01[GO LIVE - GO LIVE]\\nE.05[Blog Content - Legal Content -TR-]-->Z.01[GO LIVE - GO LIVE]\\nH.01[Support / Chat - Support Center System Setup]-->Z.01[GO LIVE - GO LIVE]\\nH.04[Support / Chat - Chat Setup]-->Z.01[GO LIVE - GO LIVE]\\nI.03[Payment Systems - Technical Setup]-->Z.01[GO LIVE - GO LIVE]\\nJ.01[Legal Establishments - Company Establishment in Turkey]-->Z.01[GO LIVE - GO LIVE]\\nF.01[App Content - Suggested Items]-->Z.01[GO LIVE - GO LIVE]\\nF.03[App Content - Initial Items to Enter]-->Z.01[GO LIVE - GO LIVE]\\nstyle A.01 stroke:green, stroke-width:5px\\nstyle A.02 stroke:green, stroke-width:5px\\nstyle A.03 stroke:green, stroke-width:5px\\nstyle B.01 stroke:green, stroke-width:5px\\nstyle B.02 stroke:yellow, stroke-width:5px\\nstyle B.03 stroke:yellow, stroke-width:5px\\nstyle C.01 stroke:red, stroke-width:5px\\nstyle C.02 stroke:red, stroke-width:5px\\nstyle C.03 stroke:red, stroke-width:5px\\nstyle D.01 stroke:green, stroke-width:5px\\nstyle D.02 stroke:green, stroke-width:5px\\nstyle D.03 stroke:green, stroke-width:5px\\nstyle D.04 stroke:red, stroke-width:5px\\nstyle D.05 stroke:red, stroke-width:5px\\nstyle D.05 stroke:red, stroke-width:5px\\nstyle D.05 stroke:red, stroke-width:5px\\nstyle E.01 stroke:yellow, stroke-width:5px\\nstyle E.02 stroke:pink, stroke-width:5px\\nstyle E.03 stroke:pink, stroke-width:5px\\nstyle E.04 stroke:red, stroke-width:5px\\nstyle E.05 stroke:green, stroke-width:5px\\nstyle E.06 stroke:red, stroke-width:5px\\nstyle E.07 stroke:red, stroke-width:5px\\nstyle E.08 stroke:red, stroke-width:5px\\nstyle E.09 stroke:red, stroke-width:5px\\nstyle E.10 stroke:red, stroke-width:5px\\nstyle F.01 stroke:red, stroke-width:5px\\nstyle F.02 stroke:red, stroke-width:5px\\nstyle F.03 stroke:red, stroke-width:5px\\nstyle G.01 stroke:red, stroke-width:5px\\nstyle G.02 stroke:red, stroke-width:5px\\nstyle G.03 stroke:red, stroke-width:5px\\nstyle H.01 stroke:yellow, stroke-width:5px\\nstyle H.02 stroke:red, stroke-width:5px\\nstyle H.03 stroke:red, stroke-width:5px\\nstyle H.04 stroke:red, stroke-width:5px\\nstyle I.01 stroke:green, stroke-width:5px\\nstyle I.02 stroke:green, stroke-width:5px\\nstyle I.03 stroke:yellow, stroke-width:5px\\nstyle J.01 stroke:green, stroke-width:5px\\nstyle J.02 stroke:green, stroke-width:5px\\nstyle K.01 stroke:pink, stroke-width:5px\\nstyle K.02 stroke:pink, stroke-width:5px\\nstyle K.03 stroke:red, stroke-width:5px\\nstyle L.01 stroke:red, stroke-width:5px\\nstyle L.02 stroke:red, stroke-width:5px\\nstyle M.01 stroke:red, stroke-width:5px\\nstyle M.01 stroke:red, stroke-width:5px\\nstyle X.01 stroke:green, stroke-width:5px\\nstyle Z.01 stroke:red, stroke-width:5px\\nstyle Z.01 stroke:red, stroke-width:5px\\nstyle Z.01 stroke:red, stroke-width:5px\\nstyle Z.01 stroke:red, stroke-width:5px\\nstyle Z.01 stroke:red, stroke-width:5px\\nstyle Z.01 stroke:red, stroke-width:5px\\nstyle Z.01 stroke:red, stroke-width:5px\\nstyle Z.01 stroke:red, stroke-width:5px\\nstyle Z.01 stroke:red, stroke-width:5px\\nstyle Z.01 stroke:red, stroke-width:5px\\nstyle Z.01 stroke:red, stroke-width:5px\\n'"
            ]
          },
          "metadata": {
            "tags": []
          },
          "execution_count": 11
        }
      ]
    },
    {
      "cell_type": "code",
      "metadata": {
        "colab": {
          "base_uri": "https://localhost:8080/",
          "height": 105
        },
        "id": "BM8xoJD-KkAJ",
        "outputId": "98c6afb7-d74b-4a3b-d1c6-21b8996767e6"
      },
      "source": [
        "graph"
      ],
      "execution_count": 21,
      "outputs": [
        {
          "output_type": "execute_result",
          "data": {
            "application/vnd.google.colaboratory.intrinsic+json": {
              "type": "string"
            },
            "text/plain": [
              "'graph LR\\n X.01[N/A - No Pre-requisite]-->A.01[Design - M...\\n X.01[N/A - No Pre-requisite]-->A.02[Design - M...\\n X.01[N/A - No Pre-requisite]-->A.03[Design - D...\\n A.01[Design - Mobile App]-->B.01[Development -...\\n A.02[Design - Mobile Web]-->B.02[Development -...\\n A.03[Design - Desktop Web]-->B.03[Development ...\\n B.01[Development - Mobile App]-->C.01[Test - M...\\n B.02[Development - Mobile Web]-->C.02[Test - M...\\n B.03[Development - Desktop Web]-->C.03[Test - ...\\n X.01[N/A - No Pre-requisite]-->D.01[Blog - WP ...\\n D.01[Blog - WP Setup]-->D.02[Blog - Design / T...\\n D.02[Blog - Design / Template Check]-->D.03[Bl...\\n D.02[Blog - Design / Template Check]-->D.04[Bl...\\n D.01[Blog - WP Setup]-->D.05[Blog - Deploy for...\\n D.02[Blog - Design / Template Check]-->D.05[Bl...\\n D.03[Blog - Plugin / Template Setup]-->D.05[Bl...\\n D.01[Blog - WP Setup]-->E.01[Blog Content - Po...\\n D.03[Blog - Plugin / Template Setup]-->E.02[Bl...\\n D.03[Blog - Plugin / Template Setup]-->E.03[Bl...\\n D.03[Blog - Plugin / Template Setup]-->E.04[Bl...\\n D.03[Blog - Plugin / Template Setup]-->E.05[Bl...\\n D.01[Blog - WP Setup]-->E.06[Blog Content - Po...\\n D.03[Blog - Plugin / Template Setup]-->E.07[Bl...\\n D.03[Blog - Plugin / Template Setup]-->E.08[Bl...\\n D.03[Blog - Plugin / Template Setup]-->E.09[Bl...\\n D.03[Blog - Plugin / Template Setup]-->E.10[Bl...\\n X.01[N/A - No Pre-requisite]-->F.01[App Conten...\\n B.01[Development - Mobile App]-->F.02[App Cont...\\n B.01[Development - Mobile App]-->F.03[App Cont...\\n X.01[N/A - No Pre-requisite]-->G.01[Investor R...\\n X.01[N/A - No Pre-requisite]-->G.02[Investor R...\\n A.01[Design - Mobile App]-->G.03[Investor Rela...\\n D.01[Blog - WP Setup]-->H.01[Support / Chat - ...\\n D.01[Blog - WP Setup]-->H.02[Support / Chat - ...\\n X.01[N/A - No Pre-requisite]-->H.03[Support / ...\\n X.01[N/A - No Pre-requisite]-->H.04[Support / ...\\n J.02[Legal Establishments - Company Establishm...\\n I.01[Payment Systems - US Bank Account]-->I.02...\\n I.02[Payment Systems - Stripe Agreement]-->I.0...\\n X.01[N/A - No Pre-requisite]-->J.01[Legal Esta...\\n X.01[N/A - No Pre-requisite]-->J.02[Legal Esta...\\n X.01[N/A - No Pre-requisite]-->K.01[Marketing ...\\n X.01[N/A - No Pre-requisite]-->K.02[Marketing ...\\n X.01[N/A - No Pre-requisite]-->K.03[Marketing ...\\n X.01[N/A - No Pre-requisite]-->L.01[People - H...\\n X.01[N/A - No Pre-requisite]-->L.02[People - S...\\n J.01[Legal Establishments - Company Establishm...\\n J.02[Legal Establishments - Company Establishm...\\n                                                  \\n C.01[Test - Mobile App]-->Z.01[GO LIVE - GO LIVE]\\n D.05[Blog - Deploy for Live / SSL, etc.]-->Z.0...\\n E.01[Blog Content - Post Content -TR-]-->Z.01[...\\n E.02[Blog Content - Infographic Content -TR-]-...\\n E.05[Blog Content - Legal Content -TR-]-->Z.01...\\n H.01[Support / Chat - Support Center System Se...\\n H.04[Support / Chat - Chat Setup]-->Z.01[GO LI...\\n I.03[Payment Systems - Technical Setup]-->Z.01...\\n J.01[Legal Establishments - Company Establishm...\\n F.01[App Content - Suggested Items]-->Z.01[GO ...\\n F.03[App Content - Initial Items to Enter]-->Z...\\n  style A.01 stroke:green, stroke-width:5px\\n  style A.02 stroke:green, stroke-width:5px\\n  style A.03 stroke:green, stroke-width:5px\\n  style B.01 stroke:green, stroke-width:5px\\n style B.02 stroke:yellow, stroke-width:5px\\n style B.03 stroke:yellow, stroke-width:5px\\n    style C.01 stroke:red, stroke-width:5px\\n    style C.02 stroke:red, stroke-width:5px\\n    style C.03 stroke:red, stroke-width:5px\\n  style D.01 stroke:green, stroke-width:5px\\n  style D.02 stroke:green, stroke-width:5px\\n  style D.03 stroke:green, stroke-width:5px\\n    style D.04 stroke:red, stroke-width:5px\\n    style D.05 stroke:red, stroke-width:5px\\n    style D.05 stroke:red, stroke-width:5px\\n    style D.05 stroke:red, stroke-width:5px\\n style E.01 stroke:yellow, stroke-width:5px\\n   style E.02 stroke:pink, stroke-width:5px\\n   style E.03 stroke:pink, stroke-width:5px\\n    style E.04 stroke:red, stroke-width:5px\\n  style E.05 stroke:green, stroke-width:5px\\n    style E.06 stroke:red, stroke-width:5px\\n    style E.07 stroke:red, stroke-width:5px\\n    style E.08 stroke:red, stroke-width:5px\\n    style E.09 stroke:red, stroke-width:5px\\n    style E.10 stroke:red, stroke-width:5px\\n    style F.01 stroke:red, stroke-width:5px\\n    style F.02 stroke:red, stroke-width:5px\\n    style F.03 stroke:red, stroke-width:5px\\n    style G.01 stroke:red, stroke-width:5px\\n    style G.02 stroke:red, stroke-width:5px\\n    style G.03 stroke:red, stroke-width:5px\\n style H.01 stroke:yellow, stroke-width:5px\\n    style H.02 stroke:red, stroke-width:5px\\n    style H.03 stroke:red, stroke-width:5px\\n    style H.04 stroke:red, stroke-width:5px\\n  style I.01 stroke:green, stroke-width:5px\\n  style I.02 stroke:green, stroke-width:5px\\n style I.03 stroke:yellow, stroke-width:5px\\n  style J.01 stroke:green, stroke-width:5px\\n  style J.02 stroke:green, stroke-width:5px\\n   style K.01 stroke:pink, stroke-width:5px\\n   style K.02 stroke:pink, stroke-width:5px\\n    style K.03 stroke:red, stroke-width:5px\\n    style L.01 stroke:red, stroke-width:5px\\n    style L.02 stroke:red, stroke-width:5px\\n    style M.01 stroke:red, stroke-width:5px\\n    style M.01 stroke:red, stroke-width:5px\\n  style X.01 stroke:green, stroke-width:5px\\n    style Z.01 stroke:red, stroke-width:5px\\n    style Z.01 stroke:red, stroke-width:5px\\n    style Z.01 stroke:red, stroke-width:5px\\n    style Z.01 stroke:red, stroke-width:5px\\n    style Z.01 stroke:red, stroke-width:5px\\n    style Z.01 stroke:red, stroke-width:5px\\n    style Z.01 stroke:red, stroke-width:5px\\n    style Z.01 stroke:red, stroke-width:5px\\n    style Z.01 stroke:red, stroke-width:5px\\n    style Z.01 stroke:red, stroke-width:5px\\n    style Z.01 stroke:red, stroke-width:5px'"
            ]
          },
          "metadata": {
            "tags": []
          },
          "execution_count": 21
        }
      ]
    },
    {
      "cell_type": "code",
      "metadata": {
        "id": "mMfZBHnhKqpN"
      },
      "source": [
        ""
      ],
      "execution_count": null,
      "outputs": []
    }
  ]
}