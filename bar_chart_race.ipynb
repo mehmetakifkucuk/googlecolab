{
  "nbformat": 4,
  "nbformat_minor": 0,
  "metadata": {
    "colab": {
      "name": "bar_chart_race.ipynb",
      "provenance": [],
      "authorship_tag": "ABX9TyMajIoDoBh4M39BwbjDvMFC",
      "include_colab_link": true
    },
    "kernelspec": {
      "name": "python3",
      "display_name": "Python 3"
    },
    "language_info": {
      "name": "python"
    }
  },
  "cells": [
    {
      "cell_type": "markdown",
      "metadata": {
        "id": "view-in-github",
        "colab_type": "text"
      },
      "source": [
        "<a href=\"https://colab.research.google.com/github/mehmetakifkucuk/googlecolab/blob/main/bar_chart_race.ipynb\" target=\"_parent\"><img src=\"https://colab.research.google.com/assets/colab-badge.svg\" alt=\"Open In Colab\"/></a>"
      ]
    },
    {
      "cell_type": "code",
      "metadata": {
        "colab": {
          "base_uri": "https://localhost:8080/"
        },
        "id": "ca3NZHo9tD3A",
        "outputId": "16ddefb2-9cad-48a4-dd75-0f45a2508304"
      },
      "source": [
        "pip install bar-chart-race"
      ],
      "execution_count": 1,
      "outputs": [
        {
          "output_type": "stream",
          "text": [
            "Collecting bar-chart-race\n",
            "\u001b[?25l  Downloading https://files.pythonhosted.org/packages/09/01/f6d1a1a0978b39560843c54be7349804d7d2faef0a869acd7c8a6fc920b0/bar_chart_race-0.1.0-py3-none-any.whl (156kB)\n",
            "\r\u001b[K     |██                              | 10kB 9.1MB/s eta 0:00:01\r\u001b[K     |████▏                           | 20kB 14.8MB/s eta 0:00:01\r\u001b[K     |██████▎                         | 30kB 15.7MB/s eta 0:00:01\r\u001b[K     |████████▍                       | 40kB 14.0MB/s eta 0:00:01\r\u001b[K     |██████████▌                     | 51kB 6.9MB/s eta 0:00:01\r\u001b[K     |████████████▌                   | 61kB 7.7MB/s eta 0:00:01\r\u001b[K     |██████████████▋                 | 71kB 8.5MB/s eta 0:00:01\r\u001b[K     |████████████████▊               | 81kB 9.5MB/s eta 0:00:01\r\u001b[K     |██████████████████▉             | 92kB 8.8MB/s eta 0:00:01\r\u001b[K     |█████████████████████           | 102kB 8.3MB/s eta 0:00:01\r\u001b[K     |███████████████████████         | 112kB 8.3MB/s eta 0:00:01\r\u001b[K     |█████████████████████████       | 122kB 8.3MB/s eta 0:00:01\r\u001b[K     |███████████████████████████▏    | 133kB 8.3MB/s eta 0:00:01\r\u001b[K     |█████████████████████████████▎  | 143kB 8.3MB/s eta 0:00:01\r\u001b[K     |███████████████████████████████▍| 153kB 8.3MB/s eta 0:00:01\r\u001b[K     |████████████████████████████████| 163kB 8.3MB/s \n",
            "\u001b[?25hRequirement already satisfied: matplotlib>=3.1 in /usr/local/lib/python3.7/dist-packages (from bar-chart-race) (3.2.2)\n",
            "Requirement already satisfied: pandas>=0.24 in /usr/local/lib/python3.7/dist-packages (from bar-chart-race) (1.1.5)\n",
            "Requirement already satisfied: pyparsing!=2.0.4,!=2.1.2,!=2.1.6,>=2.0.1 in /usr/local/lib/python3.7/dist-packages (from matplotlib>=3.1->bar-chart-race) (2.4.7)\n",
            "Requirement already satisfied: numpy>=1.11 in /usr/local/lib/python3.7/dist-packages (from matplotlib>=3.1->bar-chart-race) (1.19.5)\n",
            "Requirement already satisfied: python-dateutil>=2.1 in /usr/local/lib/python3.7/dist-packages (from matplotlib>=3.1->bar-chart-race) (2.8.1)\n",
            "Requirement already satisfied: kiwisolver>=1.0.1 in /usr/local/lib/python3.7/dist-packages (from matplotlib>=3.1->bar-chart-race) (1.3.1)\n",
            "Requirement already satisfied: cycler>=0.10 in /usr/local/lib/python3.7/dist-packages (from matplotlib>=3.1->bar-chart-race) (0.10.0)\n",
            "Requirement already satisfied: pytz>=2017.2 in /usr/local/lib/python3.7/dist-packages (from pandas>=0.24->bar-chart-race) (2018.9)\n",
            "Requirement already satisfied: six>=1.5 in /usr/local/lib/python3.7/dist-packages (from python-dateutil>=2.1->matplotlib>=3.1->bar-chart-race) (1.15.0)\n",
            "Installing collected packages: bar-chart-race\n",
            "Successfully installed bar-chart-race-0.1.0\n"
          ],
          "name": "stdout"
        }
      ]
    },
    {
      "cell_type": "code",
      "metadata": {
        "id": "2Hv9mD7-tJ0H"
      },
      "source": [
        ""
      ],
      "execution_count": null,
      "outputs": []
    }
  ]
}